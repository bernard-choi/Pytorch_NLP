{
 "cells": [
  {
   "cell_type": "markdown",
   "metadata": {},
   "source": [
    "# Convolutional Neural Network\n",
    "\n",
    "- MNIST data\n",
    "- only fully connected layers"
   ]
  },
  {
   "cell_type": "markdown",
   "metadata": {},
   "source": [
    "## Settings\n",
    "\n",
    "### 1) Import required libraries\n"
   ]
  },
  {
   "cell_type": "code",
   "execution_count": 1,
   "metadata": {},
   "outputs": [],
   "source": [
    "import numpy as np\n",
    "import torch\n",
    "import torch.nn as nn\n",
    "import torch.optim as optim\n",
    "import torch.nn.init as init\n",
    "import torchvision.datasets as dset\n",
    "import torchvision.transforms as transforms\n",
    "from torch.utils.data import DataLoader\n",
    "from torch.autograd import Variable"
   ]
  },
  {
   "cell_type": "markdown",
   "metadata": {},
   "source": [
    "### 2) Set Hyperparameters"
   ]
  },
  {
   "cell_type": "code",
   "execution_count": 2,
   "metadata": {},
   "outputs": [],
   "source": [
    "batch_size = 16\n",
    "learning_rate = 0.0002\n",
    "num_epoch = 10"
   ]
  },
  {
   "cell_type": "markdown",
   "metadata": {},
   "source": [
    "## Data Generation\n",
    "### 1) Download Data"
   ]
  },
  {
   "cell_type": "code",
   "execution_count": 3,
   "metadata": {},
   "outputs": [],
   "source": [
    "mnist_train = dset.MNIST(\"./\", train=True, transform=transforms.ToTensor(), target_transform=None, download=True)\n",
    "mnist_test = dset.MNIST(\"./\", train=False, transform=transforms.ToTensor(), target_transform=None, download=True)"
   ]
  },
  {
   "cell_type": "markdown",
   "metadata": {},
   "source": [
    "### 2) Check Dataset"
   ]
  },
  {
   "cell_type": "code",
   "execution_count": 4,
   "metadata": {},
   "outputs": [
    {
     "name": "stdout",
     "output_type": "stream",
     "text": [
      "tensor(5) 60000\n",
      "tensor(7) 10000\n"
     ]
    }
   ],
   "source": [
    "print(mnist_train.__getitem__(0)[1], mnist_train.__len__())\n",
    "print(mnist_test.__getitem__(0)[1], mnist_test.__len__())"
   ]
  },
  {
   "cell_type": "markdown",
   "metadata": {},
   "source": [
    "### 3) Set DataLoader"
   ]
  },
  {
   "cell_type": "code",
   "execution_count": 5,
   "metadata": {},
   "outputs": [],
   "source": [
    "train_loader = torch.utils.data.DataLoader(mnist_train,batch_size=batch_size, shuffle=True,num_workers=2,drop_last=True)\n",
    "test_loader = torch.utils.data.DataLoader(mnist_test,batch_size=batch_size, shuffle=False,num_workers=2,drop_last=True)"
   ]
  },
  {
   "cell_type": "markdown",
   "metadata": {},
   "source": [
    "## 4. Model & Optimizer\n",
    "\n",
    "### 1) CNN Model"
   ]
  },
  {
   "cell_type": "code",
   "execution_count": 6,
   "metadata": {},
   "outputs": [],
   "source": [
    "class Linear(nn.Module):\n",
    "    def __init__(self):\n",
    "        super(Linear, self).__init__()\n",
    "        self.layer = nn.Sequential(\n",
    "            nn.Linear(784,300),\n",
    "            nn.ReLU(),\n",
    "            nn.Linear(300,100),\n",
    "            nn.ReLU(),\n",
    "            nn.Linear(100,10),\n",
    "            nn.ReLU()\n",
    "        )\n",
    "        \n",
    "    def forward(self, x):\n",
    "        out = x.view(batch_size, -1)\n",
    "        out = self.layer(out)\n",
    "        \n",
    "        return out\n",
    "    \n",
    "model = Linear()"
   ]
  },
  {
   "cell_type": "code",
   "execution_count": 7,
   "metadata": {},
   "outputs": [],
   "source": [
    "### 2) Loss func & optimizer\n",
    "\n",
    "criterion = nn.CrossEntropyLoss()\n",
    "optimizer = torch.optim.SGD(model.parameters(), lr = learning_rate)"
   ]
  },
  {
   "cell_type": "markdown",
   "metadata": {},
   "source": [
    "## 5. Train\n"
   ]
  },
  {
   "cell_type": "code",
   "execution_count": 10,
   "metadata": {},
   "outputs": [
    {
     "name": "stdout",
     "output_type": "stream",
     "text": [
      "0번째 epoch\n",
      "tensor(2.3177, grad_fn=<NllLossBackward>)\n",
      "tensor(2.2874, grad_fn=<NllLossBackward>)\n",
      "tensor(2.2815, grad_fn=<NllLossBackward>)\n",
      "tensor(2.3006, grad_fn=<NllLossBackward>)\n",
      "1번째 epoch\n",
      "tensor(2.2916, grad_fn=<NllLossBackward>)\n",
      "tensor(2.2874, grad_fn=<NllLossBackward>)\n",
      "tensor(2.2962, grad_fn=<NllLossBackward>)\n",
      "tensor(2.2603, grad_fn=<NllLossBackward>)\n",
      "2번째 epoch\n",
      "tensor(2.2285, grad_fn=<NllLossBackward>)\n",
      "tensor(2.2644, grad_fn=<NllLossBackward>)\n",
      "tensor(2.2868, grad_fn=<NllLossBackward>)\n",
      "tensor(2.2329, grad_fn=<NllLossBackward>)\n",
      "3번째 epoch\n",
      "tensor(2.2924, grad_fn=<NllLossBackward>)\n",
      "tensor(2.2560, grad_fn=<NllLossBackward>)\n",
      "tensor(2.2109, grad_fn=<NllLossBackward>)\n",
      "tensor(2.1946, grad_fn=<NllLossBackward>)\n",
      "4번째 epoch\n",
      "tensor(2.2177, grad_fn=<NllLossBackward>)\n",
      "tensor(2.1906, grad_fn=<NllLossBackward>)\n",
      "tensor(2.1811, grad_fn=<NllLossBackward>)\n",
      "tensor(2.1546, grad_fn=<NllLossBackward>)\n",
      "5번째 epoch\n",
      "tensor(2.0863, grad_fn=<NllLossBackward>)\n",
      "tensor(2.0415, grad_fn=<NllLossBackward>)\n",
      "tensor(2.0178, grad_fn=<NllLossBackward>)\n",
      "tensor(2.1538, grad_fn=<NllLossBackward>)\n",
      "6번째 epoch\n",
      "tensor(2.0264, grad_fn=<NllLossBackward>)\n",
      "tensor(1.8061, grad_fn=<NllLossBackward>)\n",
      "tensor(1.9569, grad_fn=<NllLossBackward>)\n",
      "tensor(2.1025, grad_fn=<NllLossBackward>)\n",
      "7번째 epoch\n",
      "tensor(2.0175, grad_fn=<NllLossBackward>)\n",
      "tensor(2.0090, grad_fn=<NllLossBackward>)\n",
      "tensor(2.0897, grad_fn=<NllLossBackward>)\n",
      "tensor(2.0075, grad_fn=<NllLossBackward>)\n",
      "8번째 epoch\n",
      "tensor(1.8336, grad_fn=<NllLossBackward>)\n",
      "tensor(1.7037, grad_fn=<NllLossBackward>)\n",
      "tensor(1.6614, grad_fn=<NllLossBackward>)\n",
      "tensor(1.6304, grad_fn=<NllLossBackward>)\n",
      "9번째 epoch\n",
      "tensor(1.8124, grad_fn=<NllLossBackward>)\n",
      "tensor(1.4933, grad_fn=<NllLossBackward>)\n",
      "tensor(1.5553, grad_fn=<NllLossBackward>)\n",
      "tensor(1.8320, grad_fn=<NllLossBackward>)\n"
     ]
    }
   ],
   "source": [
    "for epoch in range(num_epoch):\n",
    "    print(\"{}번째 epoch\".format(epoch))\n",
    "    for i, [image, label] in enumerate(train_loader):\n",
    "        images = Variable(image)\n",
    "        labels = Variable(label)\n",
    "        \n",
    "        optimizer.zero_grad()\n",
    "        outputs = model.forward(images)\n",
    "        loss = criterion(outputs, labels)\n",
    "        loss.backward()\n",
    "        optimizer.step()\n",
    "        \n",
    "        if i % 1000 == 0:\n",
    "            print(loss)"
   ]
  },
  {
   "cell_type": "markdown",
   "metadata": {},
   "source": [
    "## 6. Eval"
   ]
  },
  {
   "cell_type": "code",
   "execution_count": 12,
   "metadata": {},
   "outputs": [
    {
     "name": "stderr",
     "output_type": "stream",
     "text": [
      "C:\\Users\\user\\Anaconda3\\lib\\site-packages\\ipykernel_launcher.py:4: UserWarning: volatile was removed and now has no effect. Use `with torch.no_grad():` instead.\n",
      "  after removing the cwd from sys.path.\n"
     ]
    },
    {
     "name": "stdout",
     "output_type": "stream",
     "text": [
      "Accuracy of Test Data: 54.040000915527344\n"
     ]
    }
   ],
   "source": [
    "## Linear model은 성능이 좋디 않다 50프로..\n",
    "correct = 0\n",
    "total = 0\n",
    "for image, label in test_loader:\n",
    "    images = Variable(image, volatile = True)\n",
    "    labels = Variable(label)\n",
    "    \n",
    "    outputs = model.forward(images)\n",
    "    _, predicted = torch.max(outputs,1)\n",
    "    \n",
    "    total += label.size(0) # batch_size만큼\n",
    "    correct += (predicted == labels).sum().float()\n",
    "    \n",
    "print(\"Accuracy of Test Data: {}\".format(100*correct/total))"
   ]
  }
 ],
 "metadata": {
  "kernelspec": {
   "display_name": "Python 3",
   "language": "python",
   "name": "python3"
  },
  "language_info": {
   "codemirror_mode": {
    "name": "ipython",
    "version": 3
   },
   "file_extension": ".py",
   "mimetype": "text/x-python",
   "name": "python",
   "nbconvert_exporter": "python",
   "pygments_lexer": "ipython3",
   "version": "3.6.5"
  }
 },
 "nbformat": 4,
 "nbformat_minor": 2
}
