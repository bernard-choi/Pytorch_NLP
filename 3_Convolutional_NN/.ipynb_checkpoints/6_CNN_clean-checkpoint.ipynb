{
 "cells": [
  {
   "cell_type": "markdown",
   "metadata": {},
   "source": [
    "## Convolutional Neural Network\n",
    "- MNIST data\n",
    "- 3 Convolutional layers\n",
    "- 2 fully conected layers"
   ]
  },
  {
   "cell_type": "markdown",
   "metadata": {},
   "source": [
    "## 1. Settings\n",
    "\n",
    "### 1) Import required libraries"
   ]
  },
  {
   "cell_type": "code",
   "execution_count": 1,
   "metadata": {},
   "outputs": [],
   "source": [
    "import numpy as np\n",
    "import torch\n",
    "import torch.nn as nn\n",
    "import torch.optim as optim\n",
    "import torch.nn.init as init\n",
    "import torchvision.datasets as dset\n",
    "import torchvision.transforms as transforms\n",
    "from torch.utils.data import DataLoader\n",
    "from torch.autograd import Variable"
   ]
  },
  {
   "cell_type": "markdown",
   "metadata": {},
   "source": [
    "### 2) Set hyperparameters"
   ]
  },
  {
   "cell_type": "code",
   "execution_count": 2,
   "metadata": {},
   "outputs": [],
   "source": [
    "batch_size = 16\n",
    "learning_rate = 0.0002\n",
    "num_epoch = 10"
   ]
  },
  {
   "cell_type": "markdown",
   "metadata": {},
   "source": [
    "## 2. Data\n",
    "\n",
    "### 1) Download Data"
   ]
  },
  {
   "cell_type": "code",
   "execution_count": 3,
   "metadata": {},
   "outputs": [],
   "source": [
    "mnist_train = dset.MNIST(\"./\", train=True, transform=transforms.ToTensor(), target_transform=None, download=True)\n",
    "## pil 이미지를 텐서로, 0-9까지의 라벨값이라 바꿔주지 않았다. Download True는 데이터가 없으면 다운로드 하겠다는 뜻\n",
    "mnist_test = dset.MNIST(\"./\", train=False, transform=transforms.ToTensor(), target_transform=None, download=True)"
   ]
  },
  {
   "cell_type": "markdown",
   "metadata": {},
   "source": [
    "### 2) Check Dataset"
   ]
  },
  {
   "cell_type": "code",
   "execution_count": 4,
   "metadata": {},
   "outputs": [
    {
     "name": "stdout",
     "output_type": "stream",
     "text": [
      "torch.Size([1, 28, 28]) 60000\n",
      "torch.Size([1, 28, 28]) 10000\n"
     ]
    }
   ],
   "source": [
    "print(mnist_train.__getitem__(0)[0].size(), mnist_train.__len__()) ## train 개수 6만개\n",
    "print(mnist_test.__getitem__(0)[0].size(), mnist_test.__len__())   ## test개수 6만개"
   ]
  },
  {
   "cell_type": "code",
   "execution_count": 5,
   "metadata": {},
   "outputs": [],
   "source": [
    "img1, label1 = mnist_train.__getitem__(0)\n",
    "img2, label2 = mnist_test.__getitem__(0)"
   ]
  },
  {
   "cell_type": "code",
   "execution_count": 6,
   "metadata": {},
   "outputs": [
    {
     "name": "stdout",
     "output_type": "stream",
     "text": [
      "torch.Size([1, 28, 28]) tensor(5)\n",
      "torch.Size([1, 28, 28]) tensor(7)\n"
     ]
    }
   ],
   "source": [
    "print(img1.size(), label1) ## 첫번째 데이터는 라벨5 \n",
    "print(img1.size(), label2) ## 두번째 데이터는 라벨 7"
   ]
  },
  {
   "cell_type": "markdown",
   "metadata": {},
   "source": [
    "### 3) Set DataLoader"
   ]
  },
  {
   "cell_type": "code",
   "execution_count": 7,
   "metadata": {},
   "outputs": [],
   "source": [
    "## Dataloader를 통해서 batchsize만큼 묶는다.\n",
    "## shuffle = True , 섞어서 16개씩 묶는다. \n",
    "## for문으로 부르면 된다. \n",
    "\n",
    "train_loader = torch.utils.data.DataLoader(mnist_train,batch_size=batch_size, shuffle=True,num_workers=2,drop_last=True)\n",
    "test_loader = torch.utils.data.DataLoader(mnist_test,batch_size=batch_size, shuffle=False,num_workers=2,drop_last=True)"
   ]
  },
  {
   "cell_type": "markdown",
   "metadata": {},
   "source": [
    "## 3. Model & Optimizer\n",
    "\n",
    "### 1) CNN Model"
   ]
  },
  {
   "cell_type": "code",
   "execution_count": 8,
   "metadata": {},
   "outputs": [],
   "source": [
    "class CNN(nn.Module):\n",
    "    def __init__(self):\n",
    "        super(CNN, self).__init__()   # super는 상속받을때 한번만...?\n",
    "        self.layer = nn.Sequential(\n",
    "            nn.Conv2d(1,16,5),        # batch X 16 X 24 X 24\n",
    "            nn.ReLU(),\n",
    "            nn.Conv2d(16,32,5),       # batch X 32 X 20 X 20\n",
    "            nn.ReLU(),\n",
    "            nn.MaxPool2d(2,2),        # batch X 32 X 10 X 10\n",
    "            nn.Conv2d(32,64,5),       # batch X 64 X 6 X 6\n",
    "            nn.ReLU(),\n",
    "            nn.MaxPool2d(2,2)         # batch X 64 X 3 X 3\n",
    "        )\n",
    "        self.fc_layer = nn.Sequential(\n",
    "            nn.Linear(64*3*3,100),\n",
    "            nn.ReLU(),\n",
    "            nn.Linear(100,10)\n",
    "        )\n",
    "    def forward(self,x):               # Forward propagation\n",
    "        out = self.layer(x)\n",
    "        out = out.view(batch_size, -1) # FC전에 쫙 펴주는 부분. reshape로 생각하면된다. batchsize 빼고 나머지를 핀다. \n",
    "        out = self.fc_layer(out)\n",
    "        \n",
    "        return out\n",
    "    \n",
    "model = CNN()\n",
    "## model = CNN().cuda()  "
   ]
  },
  {
   "cell_type": "markdown",
   "metadata": {},
   "source": [
    "### 2) Loss func & Optimizer"
   ]
  },
  {
   "cell_type": "code",
   "execution_count": 9,
   "metadata": {},
   "outputs": [],
   "source": [
    "criterion = nn.CrossEntropyLoss()\n",
    "optimizer =  torch.optim.SGD(model.parameters(), lr = learning_rate)"
   ]
  },
  {
   "cell_type": "markdown",
   "metadata": {},
   "source": [
    "## 4. Train"
   ]
  },
  {
   "cell_type": "code",
   "execution_count": 11,
   "metadata": {},
   "outputs": [
    {
     "name": "stdout",
     "output_type": "stream",
     "text": [
      "tensor(2.2952, grad_fn=<NllLossBackward>)\n",
      "tensor(2.3053, grad_fn=<NllLossBackward>)\n",
      "tensor(2.3173, grad_fn=<NllLossBackward>)\n",
      "tensor(2.3121, grad_fn=<NllLossBackward>)\n",
      "tensor(2.2924, grad_fn=<NllLossBackward>)\n",
      "tensor(2.2790, grad_fn=<NllLossBackward>)\n",
      "tensor(2.3012, grad_fn=<NllLossBackward>)\n",
      "tensor(2.3075, grad_fn=<NllLossBackward>)\n",
      "tensor(2.2943, grad_fn=<NllLossBackward>)\n",
      "tensor(2.2625, grad_fn=<NllLossBackward>)\n",
      "tensor(2.2711, grad_fn=<NllLossBackward>)\n",
      "tensor(2.2535, grad_fn=<NllLossBackward>)\n",
      "tensor(2.2816, grad_fn=<NllLossBackward>)\n",
      "tensor(2.2416, grad_fn=<NllLossBackward>)\n",
      "tensor(2.2611, grad_fn=<NllLossBackward>)\n",
      "tensor(2.2122, grad_fn=<NllLossBackward>)\n",
      "tensor(2.2345, grad_fn=<NllLossBackward>)\n",
      "tensor(2.1268, grad_fn=<NllLossBackward>)\n",
      "tensor(2.0214, grad_fn=<NllLossBackward>)\n",
      "tensor(1.7923, grad_fn=<NllLossBackward>)\n",
      "tensor(1.7656, grad_fn=<NllLossBackward>)\n",
      "tensor(1.1303, grad_fn=<NllLossBackward>)\n",
      "tensor(0.8215, grad_fn=<NllLossBackward>)\n",
      "tensor(0.8764, grad_fn=<NllLossBackward>)\n",
      "tensor(0.6707, grad_fn=<NllLossBackward>)\n",
      "tensor(0.3710, grad_fn=<NllLossBackward>)\n",
      "tensor(0.6713, grad_fn=<NllLossBackward>)\n",
      "tensor(0.2624, grad_fn=<NllLossBackward>)\n",
      "tensor(0.4236, grad_fn=<NllLossBackward>)\n",
      "tensor(0.2460, grad_fn=<NllLossBackward>)\n",
      "tensor(0.2215, grad_fn=<NllLossBackward>)\n",
      "tensor(0.8106, grad_fn=<NllLossBackward>)\n",
      "tensor(0.4045, grad_fn=<NllLossBackward>)\n",
      "tensor(0.4726, grad_fn=<NllLossBackward>)\n",
      "tensor(0.0700, grad_fn=<NllLossBackward>)\n",
      "tensor(0.2610, grad_fn=<NllLossBackward>)\n",
      "tensor(0.1339, grad_fn=<NllLossBackward>)\n",
      "tensor(0.2049, grad_fn=<NllLossBackward>)\n",
      "tensor(0.3454, grad_fn=<NllLossBackward>)\n",
      "tensor(0.2452, grad_fn=<NllLossBackward>)\n"
     ]
    }
   ],
   "source": [
    "for epoch in range(num_epoch):\n",
    "    for i,[image, label] in enumerate(train_loader):\n",
    "        images = Variable(image)\n",
    "        labels = Variable(label)\n",
    "        \n",
    "        optimizer.zero_grad()\n",
    "        outputs = model.forward(images)\n",
    "        loss = criterion(outputs, labels)\n",
    "        loss.backward()\n",
    "        optimizer.step()\n",
    "        \n",
    "        if i % 1000 ==0:\n",
    "            print(loss)"
   ]
  },
  {
   "cell_type": "markdown",
   "metadata": {},
   "source": [
    "## 5. Test"
   ]
  },
  {
   "cell_type": "code",
   "execution_count": 14,
   "metadata": {},
   "outputs": [
    {
     "name": "stderr",
     "output_type": "stream",
     "text": [
      "C:\\Users\\user\\Anaconda3\\lib\\site-packages\\ipykernel_launcher.py:5: UserWarning: volatile was removed and now has no effect. Use `with torch.no_grad():` instead.\n",
      "  \"\"\"\n"
     ]
    },
    {
     "name": "stdout",
     "output_type": "stream",
     "text": [
      "Accuracy of Test Data: 90.83999633789062\n"
     ]
    }
   ],
   "source": [
    "correct = 0\n",
    "total = 0\n",
    "\n",
    "for image, label in test_loader:\n",
    "    images = Variable(image, volatile=True)\n",
    "    labels = Variable(label)\n",
    "    \n",
    "    outputs = model.forward(images)\n",
    "    _, predicted = torch.max(outputs,1)     \n",
    "    \n",
    "    total += label.size(0)\n",
    "    correct += (predicted == labels).sum().float()\n",
    "    \n",
    "    \n",
    "print(\"Accuracy of Test Data: {}\".format(100*correct/total))\n",
    "## 성능 90프로 아직 개선될여지가 있다"
   ]
  },
  {
   "cell_type": "code",
   "execution_count": null,
   "metadata": {},
   "outputs": [],
   "source": []
  }
 ],
 "metadata": {
  "kernelspec": {
   "display_name": "Python 3",
   "language": "python",
   "name": "python3"
  },
  "language_info": {
   "codemirror_mode": {
    "name": "ipython",
    "version": 3
   },
   "file_extension": ".py",
   "mimetype": "text/x-python",
   "name": "python",
   "nbconvert_exporter": "python",
   "pygments_lexer": "ipython3",
   "version": "3.6.5"
  }
 },
 "nbformat": 4,
 "nbformat_minor": 2
}
