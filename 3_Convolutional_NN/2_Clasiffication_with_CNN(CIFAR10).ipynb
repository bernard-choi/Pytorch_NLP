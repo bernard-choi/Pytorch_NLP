{
 "cells": [
  {
   "cell_type": "code",
   "execution_count": 1,
   "metadata": {},
   "outputs": [
    {
     "name": "stderr",
     "output_type": "stream",
     "text": [
      "C:\\Users\\user\\Anaconda3\\lib\\site-packages\\wheel\\pep425tags.py:75: RuntimeWarning: Config variable 'Py_DEBUG' is unset, Python ABI tag may be incorrect\n",
      "  warn=(impl == 'cp')):\n",
      "C:\\Users\\user\\Anaconda3\\lib\\site-packages\\wheel\\pep425tags.py:79: RuntimeWarning: Config variable 'WITH_PYMALLOC' is unset, Python ABI tag may be incorrect\n",
      "  warn=(impl == 'cp')):\n",
      "torch-0.4.1-cp36-cp36m-linux_x86_64.whl is not a supported wheel on this platform.\n",
      "You are using pip version 19.0.3, however version 19.1.1 is available.\n",
      "You should consider upgrading via the 'python -m pip install --upgrade pip' command.\n"
     ]
    }
   ],
   "source": [
    "from os.path import exists\n",
    "from wheel.pep425tags import get_abbr_impl, get_impl_ver, get_abi_tag\n",
    "platform = '{}{}-{}'.format(get_abbr_impl(), get_impl_ver(), get_abi_tag())\n",
    "cuda_output = !ldconfig -p|grep cudart.so|sed -e 's/.*\\.\\([0-9]*\\)\\.\\([0-9]*\\)$/cu\\1\\2/'\n",
    "accelerator = cuda_output[0] if exists('/dev/nvidia0') else 'cpu'\n",
    "\n",
    "!pip install -q http://download.pytorch.org/whl/{accelerator}/torch-0.4.1-{platform}-linux_x86_64.whl torchvision"
   ]
  },
  {
   "cell_type": "code",
   "execution_count": 2,
   "metadata": {},
   "outputs": [
    {
     "name": "stdout",
     "output_type": "stream",
     "text": [
      "1.0.0\n",
      "False\n"
     ]
    }
   ],
   "source": [
    "import torch\n",
    "print(torch.__version__)\n",
    "print(torch.cuda.is_available())"
   ]
  },
  {
   "cell_type": "code",
   "execution_count": 3,
   "metadata": {},
   "outputs": [],
   "source": [
    "import torch.nn as nn\n",
    "import torchvision\n",
    "import torchvision.transforms as transforms"
   ]
  },
  {
   "cell_type": "code",
   "execution_count": 4,
   "metadata": {},
   "outputs": [],
   "source": [
    "# torch.device()를 통해 gpu를 이용합니다. \n",
    "# cuda:뒤의 번호는 gpu를 여러개 동시 사용할 때 쓰이는 gpu 번호입니다.\n",
    "# gpu 사용이 가능한 경우 torch.cuda.is_available() = True이고 아닌 경우 False가 됩니다.\n",
    "\n",
    "device = torch.device('cuda:0' if torch.cuda.is_available() else 'cpu')"
   ]
  },
  {
   "cell_type": "markdown",
   "metadata": {},
   "source": [
    "## Load Data & Preprocessing"
   ]
  },
  {
   "cell_type": "code",
   "execution_count": 5,
   "metadata": {},
   "outputs": [
    {
     "name": "stdout",
     "output_type": "stream",
     "text": [
      "Files already downloaded and verified\n",
      "Files already downloaded and verified\n"
     ]
    }
   ],
   "source": [
    "# 우선 dataset을 불러와 정규화를 해야 합니다.\n",
    "\n",
    "# torchvision.transforms.Compose() 여러개의 transform을 구성합니다.\n",
    "# totensor, normalize를 구성합니다.\n",
    "transform = transforms.Compose([transforms.ToTensor(),transforms.Normalize((0.5,0.5,0.5), (0.5,0.5,0.5))])\n",
    "\n",
    "# trainset\n",
    "trainset = torchvision.datasets.CIFAR10(root='./data',\n",
    "                                        train=True,\n",
    "                                        download=True,\n",
    "                                        transform=transform)\n",
    "\n",
    "# testset\n",
    "testset = torchvision.datasets.CIFAR10(root='./data',\n",
    "                                       train=False, \n",
    "                                       download=True, \n",
    "                                       transform=transform)"
   ]
  },
  {
   "cell_type": "code",
   "execution_count": 6,
   "metadata": {},
   "outputs": [],
   "source": [
    "# num_workers는 사용하는 cpu의 갯수를 뜻합니다. batch_size = 4입니다.\n",
    "\n",
    "trainloader = torch.utils.data.DataLoader(trainset,batch_size = 4,shuffle = True)\n",
    "\n",
    "testloader = torch.utils.data.DataLoader(testset,batch_size=4, shuffle = False)\n",
    "\n",
    "classes = ('plane','car','bird','cat','deer','dog','frog','horse','ship','truck')"
   ]
  },
  {
   "cell_type": "code",
   "execution_count": 7,
   "metadata": {},
   "outputs": [
    {
     "name": "stdout",
     "output_type": "stream",
     "text": [
      "horse   cat  deer   cat\n"
     ]
    },
    {
     "data": {
      "image/png": "[encoded data removed]",
      "text/plain": [
       "<Figure size 432x288 with 1 Axes>"
      ]
     },
     "metadata": {},
     "output_type": "display_data"
    }
   ],
   "source": [
    "\n",
    "# 우리가 분류하는 image 예시를 한번 보고 가겠습니다.\n",
    "\n",
    "import matplotlib.pyplot as plt\n",
    "import numpy as np\n",
    "%matplotlib inline\n",
    "\n",
    "# image show 함수\n",
    "# torchvision.utils.make_grid(images) 는 -1 ~ 1의 범위를 갖습니다. \n",
    "# plot을 그리기 위해 우선 0~1 범위로 변경합니다.\n",
    "# numpy()로 넣어주고 가로로 4개의 이미지를 보여주기 위해 transpose로 차원 위치를 변경합니다.\n",
    "\n",
    "def imshow(img):\n",
    "    img = img / 2 +0.5\n",
    "    npimg = img.numpy()\n",
    "    plt.imshow(np.transpose(npimg,(1,2,0)))\n",
    "\n",
    "# 학습용 이미지를 iter()로 하나씩 가져오기\n",
    "dataiter = iter(trainloader)\n",
    "images, labels = dataiter.next()\n",
    "\n",
    "#정답 출력\n",
    "print(' '.join('%5s' % classes[labels[j]] for j in range(4)))\n",
    "\n",
    "#이미지 보여주기\n",
    "imshow(torchvision.utils.make_grid(images))"
   ]
  },
  {
   "cell_type": "code",
   "execution_count": 8,
   "metadata": {},
   "outputs": [
    {
     "data": {
      "text/plain": [
       "torch.Size([3, 36, 138])"
      ]
     },
     "execution_count": 8,
     "metadata": {},
     "output_type": "execute_result"
    }
   ],
   "source": [
    "\n",
    "torchvision.utils.make_grid(images).shape"
   ]
  },
  {
   "cell_type": "markdown",
   "metadata": {},
   "source": [
    "## Modeling"
   ]
  },
  {
   "cell_type": "code",
   "execution_count": 9,
   "metadata": {},
   "outputs": [],
   "source": [
    "class ConvNet(nn.Module):\n",
    "    def __init__(self):\n",
    "        super(ConvNet,self).__init__()\n",
    "        \n",
    "        # 이제 3채널 이미지를 처리합니다\n",
    "        # 32 X 32 X 3 X batch_size\n",
    "        \n",
    "        self.layer1 = nn.Sequential(\n",
    "            nn.Conv2d(3,6,kernel_size=5,stride=1,padding=0),\n",
    "            nn.ReLU(),\n",
    "            nn.MaxPool2d(kernel_size=2, stride = 2)\n",
    "        )\n",
    "        # 14 X 14 X 6 X batch_size\n",
    "        self.layer2 = nn.Sequential(\n",
    "            nn.Conv2d(6,16,kernel_size=5, stride = 1, padding=0),\n",
    "            nn.ReLU(),\n",
    "            nn.MaxPool2d(kernel_size = 2, stride = 2)\n",
    "            )\n",
    "        # 5 X 5 X 16 X batch_size\n",
    "    \n",
    "        self.fc1 = nn.Sequential(\n",
    "                        nn.Linear(5*5*16,120),\n",
    "                        nn.ReLU()\n",
    "                        )\n",
    "        self.fc2 = nn.Sequential(\n",
    "                        nn.Linear(120,84),\n",
    "                        nn.ReLU()\n",
    "                        )\n",
    "    \n",
    "        self.fc3 = nn.Linear(84,10)\n",
    "        \n",
    "    def forward(self,x):\n",
    "        \n",
    "        # conv1(), 32X32인데 kernel_size = 5X5, stride = 1, padding = 0 즉 output은 28X28X6\n",
    "        # pool(), 28X28를 kernel_size = 2X2, stride = 2로 pooling합니다. output은 14X14X6\n",
    "        \n",
    "        x = self.layer1(x)\n",
    "        \n",
    "        # conv2(), 14X14X6, kernel_size = 5X5, stride = 1, padding = 0 output은 10 X10 X 160\n",
    "        # pool(), 10 X 10 를 kernel_size = 2X2, stride = 2로 pooling output은  5X5X16\n",
    "        \n",
    "        x = self.layer2(x)\n",
    "        \n",
    "        x = x.reshape(x.size(0),-1) # batchsize를 제외한 나머지들의 곱\n",
    "        \n",
    "        x = self.fc1(x)\n",
    "        x = self.fc2(x)\n",
    "        x = self.fc3(x)\n",
    "        \n",
    "        return x\n",
    "    \n",
    "net = ConvNet()\n",
    "    \n",
    "if torch.cuda.is_available():\n",
    "     net = ConvNet().to(device)\n",
    "    \n",
    "    "
   ]
  },
  {
   "cell_type": "markdown",
   "metadata": {},
   "source": [
    "## Loss function & Optimizer"
   ]
  },
  {
   "cell_type": "code",
   "execution_count": 10,
   "metadata": {},
   "outputs": [],
   "source": [
    "criterion = nn.CrossEntropyLoss()\n",
    "optimizer = torch.optim.SGD(net.parameters(), lr = 0.001, momentum = 0.9)"
   ]
  },
  {
   "cell_type": "markdown",
   "metadata": {},
   "source": [
    "## Training"
   ]
  },
  {
   "cell_type": "code",
   "execution_count": 11,
   "metadata": {},
   "outputs": [
    {
     "name": "stdout",
     "output_type": "stream",
     "text": [
      "[1, 2000] loss: 2.176\n",
      "[1, 4000] loss: 1.944\n",
      "[1, 6000] loss: 1.707\n",
      "[1, 8000] loss: 1.594\n",
      "[1,10000] loss: 1.489\n",
      "[1,12000] loss: 1.472\n",
      "[2, 2000] loss: 1.383\n",
      "[2, 4000] loss: 1.359\n",
      "[2, 6000] loss: 1.352\n",
      "[2, 8000] loss: 1.297\n",
      "[2,10000] loss: 1.271\n",
      "[2,12000] loss: 1.262\n",
      "Finished Training\n"
     ]
    }
   ],
   "source": [
    "for epoch in range(2): \n",
    "    running_loss = 0.0\n",
    "    for i, (images, labels) in enumerate(trainloader):\n",
    "        \n",
    "        # 입력을 받습니다\n",
    "        \n",
    "        if torch.cuda.is_available():\n",
    "            images = images.to(device)\n",
    "            labels = labels.tp(device)\n",
    "            \n",
    "        # Feed forward\n",
    "        \n",
    "        outputs = net(images)\n",
    "        loss = criterion(outputs, labels)\n",
    "        \n",
    "        # Back prop and update weight\n",
    "        \n",
    "        optimizer.zero_grad()\n",
    "        loss.backward()\n",
    "        optimizer.step()\n",
    "        \n",
    "        # loss출력\n",
    "        running_loss += loss.item()\n",
    "        if i % 2000 == 1999:\n",
    "            print('[%d,%5d] loss: %.3f' % (epoch +1, i+1, running_loss/2000))\n",
    "            running_loss = 0.0\n",
    "            \n",
    "print(\"Finished Training\")"
   ]
  },
  {
   "cell_type": "markdown",
   "metadata": {},
   "source": [
    "## Evaluation"
   ]
  },
  {
   "cell_type": "code",
   "execution_count": 12,
   "metadata": {},
   "outputs": [
    {
     "name": "stdout",
     "output_type": "stream",
     "text": [
      "GroudTruth:    cat  ship  ship plane\n"
     ]
    },
    {
     "data": {
      "image/png": "[encoded data removed]",
      "text/plain": [
       "<Figure size 432x288 with 1 Axes>"
      ]
     },
     "metadata": {},
     "output_type": "display_data"
    }
   ],
   "source": [
    "dataiter = iter(testloader) # iter, next 를 이용해 test data 하나씩 꺼내옵니다.\n",
    "images, labels = dataiter.next()\n",
    "\n",
    "# print images\n",
    "imshow(torchvision.utils.make_grid(images))\n",
    "print('GroudTruth: ',' '.join('%5s' % classes[labels[j]] for j in range(4))) # 시험용 데이터 4개를 출력합니다"
   ]
  },
  {
   "cell_type": "code",
   "execution_count": 13,
   "metadata": {},
   "outputs": [
    {
     "name": "stdout",
     "output_type": "stream",
     "text": [
      "Accuracy of the network on the 10000 test images: 55 %\n"
     ]
    }
   ],
   "source": [
    "correct = 0\n",
    "total = 0 \n",
    "\n",
    "\n",
    "with torch.no_grad():\n",
    "    for images, labels in testloader:\n",
    "        images = images.to(device)\n",
    "        labels = labels.to(device)\n",
    "        \n",
    "        outputs =  net(images)\n",
    "        _, predicted = torch.max(outputs.data,1) # 0은 각레이블당 출력값 1은 레이블 인덳,\n",
    "        total += labels.size(0)                  # batch_size만큼 더해짐\n",
    "        correct += (predicted == labels).sum().item() # Longtensor 와 그냥 Tensor의 차이가 뭘까\n",
    "        \n",
    "print('Accuracy of the network on the 10000 test images: %d %%' %(100*correct/total))\n",
    "# 저네 데이터 셋에 대해서 55%의 정확도를 보인다. "
   ]
  },
  {
   "cell_type": "code",
   "execution_count": 14,
   "metadata": {},
   "outputs": [
    {
     "name": "stdout",
     "output_type": "stream",
     "text": [
      "tensor([3, 8, 8, 0])\n"
     ]
    }
   ],
   "source": [
    "for images, labels in testloader:\n",
    "    images = images.to(device)\n",
    "    labels = labels.to(device)\n",
    "    outputs = net(images)\n",
    "    print(labels.long())\n",
    "    if 1:\n",
    "        break"
   ]
  },
  {
   "cell_type": "code",
   "execution_count": 15,
   "metadata": {},
   "outputs": [
    {
     "name": "stdout",
     "output_type": "stream",
     "text": [
      "tensor([[-1.8494, -1.7648,  1.7642,  3.0073,  0.4692,  0.8916,  2.2380, -1.8261,\n",
      "         -1.0250, -2.1232],\n",
      "        [ 6.9639,  6.8948, -1.8252, -3.0370, -3.6392, -6.2238, -6.0346, -4.7519,\n",
      "          4.9396,  4.7508],\n",
      "        [ 3.6008,  3.0427, -0.1436, -1.4834, -1.7962, -3.0807, -2.6528, -3.6546,\n",
      "          3.7374,  1.1013],\n",
      "        [ 4.4302,  0.4226,  0.6541, -1.4140,  0.5397, -3.9685, -3.5945, -2.2159,\n",
      "          2.4953,  1.1922]], grad_fn=<AddmmBackward>)\n"
     ]
    }
   ],
   "source": [
    "for images, labels in testloader:\n",
    "    images = images.to(device)\n",
    "    labels = labels.to(device)\n",
    "    outputs = net(images)\n",
    "    print(outputs)\n",
    "    if 1:\n",
    "        break\n",
    "## barch_size 4만큼 각 레이블의 값들이 출력"
   ]
  },
  {
   "cell_type": "code",
   "execution_count": 16,
   "metadata": {},
   "outputs": [
    {
     "name": "stdout",
     "output_type": "stream",
     "text": [
      "(tensor([3.0073, 6.9639, 3.7374, 4.4302]), tensor([3, 0, 8, 0]))\n"
     ]
    }
   ],
   "source": [
    "for images, labels in testloader:\n",
    "    images = images.to(device)\n",
    "    labels = labels.to(device)\n",
    "    outputs = net(images)\n",
    "    print(torch.max(outputs.data,1))\n",
    "    if 1:\n",
    "        break\n",
    "## batch_size만큼 출력됐는데 첫번째 test_data 셋의 각 레이브당 출력값중 가장 큰 2.2247이 뽑히고 옆에는 index\n",
    "    "
   ]
  },
  {
   "cell_type": "code",
   "execution_count": 19,
   "metadata": {},
   "outputs": [
    {
     "name": "stdout",
     "output_type": "stream",
     "text": [
      "tensor([1, 0, 1, 1], dtype=torch.uint8)\n",
      "tensor(1, dtype=torch.uint8)\n",
      "tensor(0, dtype=torch.uint8)\n",
      "tensor(1, dtype=torch.uint8)\n",
      "tensor(1, dtype=torch.uint8)\n"
     ]
    }
   ],
   "source": [
    "for images, labels in testloader:\n",
    "    images = images.to(device)\n",
    "    labels = labels.to(device)\n",
    "       \n",
    "    outputs = net(images)\n",
    "    _, predicted = torch.max(outputs,1)\n",
    "    c = (predicted == labels).squeeze()\n",
    "    print(c)\n",
    "    for i in range(4):\n",
    "        print(c[i])\n",
    "    if 1:\n",
    "        break #"
   ]
  },
  {
   "cell_type": "markdown",
   "metadata": {},
   "source": [
    "## 각 라벨별 accuracy 뽑기"
   ]
  },
  {
   "cell_type": "code",
   "execution_count": 20,
   "metadata": {},
   "outputs": [
    {
     "name": "stdout",
     "output_type": "stream",
     "text": [
      "tensor(3)\n",
      "tensor(8)\n",
      "tensor(8)\n",
      "tensor(0)\n"
     ]
    }
   ],
   "source": [
    "for images, labels in testloader:\n",
    "    images = images.to(device)\n",
    "    labels = labels.to(device)\n",
    "        \n",
    "    outputs = net(images)\n",
    "    _, predicted = torch.max(outputs,1)\n",
    "    c = (predicted == labels).squeeze()\n",
    "    for i in range(4):\n",
    "        print(labels[i])\n",
    "    if 1:\n",
    "        break"
   ]
  },
  {
   "cell_type": "code",
   "execution_count": 21,
   "metadata": {},
   "outputs": [],
   "source": [
    "class_correct= list(0 for i in range(10)) # 빈 리스트 생성\n",
    "class_total = list(0 for i in range(10))\n",
    "\n",
    "with torch.no_grad():#\n",
    "    for images, labels in testloader:\n",
    "        images = images.to(device)\n",
    "        labels = labels.to(device)\n",
    "        \n",
    "        outputs = net(images)\n",
    "        _, predicted = torch.max(outputs,1)\n",
    "        c = (predicted == labels).squeeze()\n",
    "        for i in range(4):\n",
    "            label = labels[i]\n",
    "            class_correct[label] += c[i].item()\n",
    "            class_total[label] += 1\n",
    "            \n"
   ]
  },
  {
   "cell_type": "code",
   "execution_count": 22,
   "metadata": {},
   "outputs": [
    {
     "name": "stdout",
     "output_type": "stream",
     "text": [
      "Accuracy of plane : 68 %\n",
      "Accuracy of   car : 78 %\n",
      "Accuracy of  bird : 49 %\n",
      "Accuracy of   cat : 43 %\n",
      "Accuracy of  deer : 49 %\n",
      "Accuracy of   dog : 43 %\n",
      "Accuracy of  frog : 54 %\n",
      "Accuracy of horse : 63 %\n",
      "Accuracy of  ship : 62 %\n",
      "Accuracy of truck : 43 %\n"
     ]
    }
   ],
   "source": [
    "for i in range(10):\n",
    "    print('Accuracy of %5s : %2d %%' % (classes[i],100 * class_correct[i] / class_total[i]))"
   ]
  }
 ],
 "metadata": {
  "kernelspec": {
   "display_name": "Python 3",
   "language": "python",
   "name": "python3"
  },
  "language_info": {
   "codemirror_mode": {
    "name": "ipython",
    "version": 3
   },
   "file_extension": ".py",
   "mimetype": "text/x-python",
   "name": "python",
   "nbconvert_exporter": "python",
   "pygments_lexer": "ipython3",
   "version": "3.6.5"
  }
 },
 "nbformat": 4,
 "nbformat_minor": 2
}
