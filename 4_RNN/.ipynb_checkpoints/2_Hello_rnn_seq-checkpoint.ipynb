{
 "cells": [
  {
   "cell_type": "code",
   "execution_count": 1,
   "metadata": {},
   "outputs": [],
   "source": [
    "import torch\n",
    "import torch.nn as nn\n",
    "from torch.autograd import Variable"
   ]
  },
  {
   "cell_type": "code",
   "execution_count": 2,
   "metadata": {},
   "outputs": [],
   "source": [
    "idx2char = ['h', 'i', 'e', 'l', 'o']"
   ]
  },
  {
   "cell_type": "code",
   "execution_count": 3,
   "metadata": {},
   "outputs": [],
   "source": [
    "# hihell 넣으면 ihello 나오도록 학습시켜보자!\n",
    "\n",
    "x_data = [[0, 1, 0, 2, 3, 3]]   # hihell\n",
    "x_one_hot = [[[1, 0, 0, 0, 0],   # h 0\n",
    "              [0, 1, 0, 0, 0],   # i 1\n",
    "              [1, 0, 0, 0, 0],   # h 0\n",
    "              [0, 0, 1, 0, 0],   # e 2\n",
    "              [0, 0, 0, 1, 0],   # l 3\n",
    "              [0, 0, 0, 1, 0]]]  # l 3\n",
    "\n",
    "y_data = [1, 0, 2, 3, 3, 4]    # ihello"
   ]
  },
  {
   "cell_type": "code",
   "execution_count": 4,
   "metadata": {},
   "outputs": [],
   "source": [
    "# input과 LongTensor를 Variable안에 담는다. \n",
    "# label은 왜 LongTensor안에 넣는거지...?\n",
    "\n",
    "inputs = Variable(torch.Tensor(x_one_hot))\n",
    "labels = Variable(torch.LongTensor(y_data))"
   ]
  },
  {
   "cell_type": "code",
   "execution_count": 5,
   "metadata": {},
   "outputs": [],
   "source": [
    "num_classes = 5      # h, i, e, l, o중 하나 맞춰야함\n",
    "input_size = 5       # h = [1,0,0,0,0]\n",
    "hidden_size = 5      # hidden layer의 size\n",
    "batch_size = 1       # one sentence\n",
    "sequence_length = 6  # |ihello| == 6\n",
    "num_layers = 1       # one-layer rnn"
   ]
  },
  {
   "cell_type": "code",
   "execution_count": 6,
   "metadata": {},
   "outputs": [],
   "source": [
    "class RNN(nn.Module):\n",
    "\n",
    "    def __init__(self, num_classes, input_size, hidden_size, num_layers):\n",
    "        super(RNN, self).__init__()\n",
    "\n",
    "        self.num_classes = num_classes          # 5\n",
    "        self.num_layers = num_layers            # 1\n",
    "        self.input_size = input_size            # 5\n",
    "        self.hidden_size = hidden_size          # 5\n",
    "        self.sequence_length = sequence_length  # 6\n",
    "\n",
    "        self.rnn = nn.RNN(input_size=5, hidden_size=5, batch_first=True)\n",
    "\n",
    "    def forward(self, x):\n",
    "        # 첫 hidden_state=0으로 초기화\n",
    "        # (num_layers * num_directions, batch, hidden_size) for batch_first=True\n",
    "        h_0 = Variable(torch.zeros(\n",
    "            self.num_layers, x.size(0), self.hidden_size))\n",
    "\n",
    "        # Reshape input\n",
    "        x.view(x.size(0), self.sequence_length, self.input_size)\n",
    "\n",
    "\n",
    "        # Input: (batch, seq_len, input_size)\n",
    "        # h_0: (num_layers * num_directions, batch, hidden_size)\n",
    "\n",
    "        out, _ = self.rnn(x, h_0) ## out이랑 hidden 나오는데 out만 가져온다\n",
    "        \n",
    "        # out_size = (batch: 1, seq_len: 6,out_size: 5)\n",
    "        return out.view(-1, num_classes)\n",
    "        # new_out_size = (6,5)"
   ]
  },
  {
   "cell_type": "code",
   "execution_count": 7,
   "metadata": {},
   "outputs": [],
   "source": [
    "rnn = nn.RNN(input_size=5, hidden_size=5, batch_first=True)"
   ]
  },
  {
   "cell_type": "code",
   "execution_count": 8,
   "metadata": {},
   "outputs": [],
   "source": [
    "x = inputs"
   ]
  },
  {
   "cell_type": "code",
   "execution_count": 9,
   "metadata": {},
   "outputs": [],
   "source": [
    "h_0 = Variable(torch.zeros(num_layers, x.size(0), hidden_size))\n",
    "x.view(x.size(0),sequence_length,input_size)\n",
    "out,hidden = rnn(x,h_0)"
   ]
  },
  {
   "cell_type": "code",
   "execution_count": 10,
   "metadata": {},
   "outputs": [
    {
     "data": {
      "text/plain": [
       "torch.Size([1, 6, 5])"
      ]
     },
     "execution_count": 10,
     "metadata": {},
     "output_type": "execute_result"
    }
   ],
   "source": [
    "out.size()"
   ]
  },
  {
   "cell_type": "code",
   "execution_count": 11,
   "metadata": {},
   "outputs": [
    {
     "data": {
      "text/plain": [
       "tensor([[[ 0.0586, -0.1359,  0.8714,  0.4888,  0.6944]]],\n",
       "       grad_fn=<StackBackward>)"
      ]
     },
     "execution_count": 11,
     "metadata": {},
     "output_type": "execute_result"
    }
   ],
   "source": [
    "hidden"
   ]
  },
  {
   "cell_type": "code",
   "execution_count": 22,
   "metadata": {},
   "outputs": [
    {
     "data": {
      "text/plain": [
       "tensor([[[-0.0114,  0.1040, -0.2398, -0.2624,  0.3381]]],\n",
       "       grad_fn=<StackBackward>)"
      ]
     },
     "execution_count": 22,
     "metadata": {},
     "output_type": "execute_result"
    }
   ],
   "source": [
    "hidden"
   ]
  },
  {
   "cell_type": "code",
   "execution_count": 27,
   "metadata": {},
   "outputs": [
    {
     "name": "stdout",
     "output_type": "stream",
     "text": [
      "RNN(\n",
      "  (rnn): RNN(5, 5, batch_first=True)\n",
      ")\n"
     ]
    }
   ],
   "source": [
    "# Instantiate RNN model\n",
    "rnn = RNN(num_classes, input_size, hidden_size, num_layers)\n",
    "print(rnn)"
   ]
  },
  {
   "cell_type": "code",
   "execution_count": 28,
   "metadata": {},
   "outputs": [],
   "source": [
    "# Set loss and optimizer function\n",
    "# CrossEntropyLoss = LogSoftmax + NLLLoss\n",
    "criterion = torch.nn.CrossEntropyLoss()\n",
    "optimizer = torch.optim.Adam(rnn.parameters(), lr=0.1)\n"
   ]
  },
  {
   "cell_type": "code",
   "execution_count": 29,
   "metadata": {},
   "outputs": [
    {
     "name": "stdout",
     "output_type": "stream",
     "text": [
      "tensor([[ 0.1215,  0.6467,  0.2845,  0.4228,  0.5358],\n",
      "        [ 0.1898,  0.6626,  0.7235, -0.0828,  0.3859],\n",
      "        [ 0.0160,  0.5977,  0.5046,  0.0944, -0.0965],\n",
      "        [ 0.6141,  0.6255,  0.4698,  0.1151, -0.2778],\n",
      "        [ 0.2353, -0.0698,  0.2430,  0.2054,  0.0427],\n",
      "        [ 0.4891,  0.3180,  0.3902,  0.3800,  0.3246]], grad_fn=<ViewBackward>)\n"
     ]
    }
   ],
   "source": [
    "for epoch in range(1):\n",
    "    outputs = rnn(inputs)\n",
    "    print(outputs)   # 6X5 sequence_length X out_size"
   ]
  },
  {
   "cell_type": "code",
   "execution_count": 30,
   "metadata": {},
   "outputs": [
    {
     "name": "stdout",
     "output_type": "stream",
     "text": [
      "(tensor([0.6467, 0.7235, 0.5977, 0.6255, 0.2430, 0.4891],\n",
      "       grad_fn=<MaxBackward0>), tensor([1, 2, 1, 1, 2, 0]))\n"
     ]
    }
   ],
   "source": [
    "for epoch in range(1):\n",
    "    outputs = rnn(inputs)\n",
    "    optimizer.zero_grad()\n",
    "    loss = criterion(outputs,labels)\n",
    "    loss.backward()\n",
    "    optimizer.step()\n",
    "    print(outputs.max(1)) #각 행별로 가장 큰 수와 그 수의 위치\n",
    " "
   ]
  },
  {
   "cell_type": "code",
   "execution_count": 31,
   "metadata": {},
   "outputs": [
    {
     "name": "stdout",
     "output_type": "stream",
     "text": [
      "[1 0 1 0 3 3]\n"
     ]
    }
   ],
   "source": [
    "for epoch in range(1):\n",
    "    outputs = rnn(inputs)\n",
    "    optimizer.zero_grad()\n",
    "    loss = criterion(outputs,labels)\n",
    "    loss.backward()\n",
    "    optimizer.step()\n",
    "    _,idx = outputs.max(1)\n",
    "    idx = idx.data.numpy()\n",
    "    print(idx)"
   ]
  },
  {
   "cell_type": "code",
   "execution_count": 32,
   "metadata": {},
   "outputs": [],
   "source": [
    "for epoch in range(1):\n",
    "    outputs = rnn(inputs)\n",
    "    optimizer.zero_grad()\n",
    "    loss = criterion(outputs,labels)\n",
    "    loss.backward()\n",
    "    optimizer.step()\n",
    "    _,idx = outputs.max(1)\n",
    "    idx = idx.data.numpy()\n",
    "    result_str = [idx2char[c] for c in idx]"
   ]
  },
  {
   "cell_type": "code",
   "execution_count": 33,
   "metadata": {},
   "outputs": [
    {
     "data": {
      "text/plain": [
       "'ihlhlo'"
      ]
     },
     "execution_count": 33,
     "metadata": {},
     "output_type": "execute_result"
    }
   ],
   "source": [
    "''.join(result_str)"
   ]
  },
  {
   "cell_type": "code",
   "execution_count": 34,
   "metadata": {},
   "outputs": [
    {
     "name": "stdout",
     "output_type": "stream",
     "text": [
      "epoch: 1, loss: 1.178\n",
      "Predicted string:  ihlhlo\n",
      "epoch: 2, loss: 1.077\n",
      "Predicted string:  ihehlo\n",
      "epoch: 3, loss: 1.018\n",
      "Predicted string:  ihehlo\n",
      "epoch: 4, loss: 0.979\n",
      "Predicted string:  ihehlo\n",
      "epoch: 5, loss: 0.941\n",
      "Predicted string:  ihehlo\n",
      "epoch: 6, loss: 0.904\n",
      "Predicted string:  ihehlo\n",
      "epoch: 7, loss: 0.869\n",
      "Predicted string:  ehehlo\n",
      "epoch: 8, loss: 0.839\n",
      "Predicted string:  ehehlo\n",
      "epoch: 9, loss: 0.814\n",
      "Predicted string:  ehello\n",
      "epoch: 10, loss: 0.787\n",
      "Predicted string:  ihello\n",
      "epoch: 11, loss: 0.762\n",
      "Predicted string:  ihello\n",
      "epoch: 12, loss: 0.757\n",
      "Predicted string:  ihello\n",
      "epoch: 13, loss: 0.761\n",
      "Predicted string:  ihello\n",
      "epoch: 14, loss: 0.756\n",
      "Predicted string:  ihello\n",
      "epoch: 15, loss: 0.739\n",
      "Predicted string:  ihello\n",
      "epoch: 16, loss: 0.721\n",
      "Predicted string:  ihello\n",
      "epoch: 17, loss: 0.711\n",
      "Predicted string:  ihello\n",
      "epoch: 18, loss: 0.702\n",
      "Predicted string:  ihello\n",
      "epoch: 19, loss: 0.695\n",
      "Predicted string:  ihello\n",
      "epoch: 20, loss: 0.686\n",
      "Predicted string:  ihello\n",
      "epoch: 21, loss: 0.678\n",
      "Predicted string:  ihello\n",
      "epoch: 22, loss: 0.676\n",
      "Predicted string:  ihello\n",
      "epoch: 23, loss: 0.703\n",
      "Predicted string:  ihello\n",
      "epoch: 24, loss: 0.658\n",
      "Predicted string:  ihello\n",
      "epoch: 25, loss: 0.726\n",
      "Predicted string:  ihello\n",
      "epoch: 26, loss: 0.736\n",
      "Predicted string:  ihello\n",
      "epoch: 27, loss: 0.725\n",
      "Predicted string:  ihello\n",
      "epoch: 28, loss: 0.680\n",
      "Predicted string:  ihello\n",
      "epoch: 29, loss: 0.662\n",
      "Predicted string:  ehello\n",
      "epoch: 30, loss: 0.666\n",
      "Predicted string:  ehello\n",
      "epoch: 31, loss: 0.673\n",
      "Predicted string:  ehello\n",
      "epoch: 32, loss: 0.683\n",
      "Predicted string:  ehello\n",
      "epoch: 33, loss: 0.679\n",
      "Predicted string:  ehello\n",
      "epoch: 34, loss: 0.668\n",
      "Predicted string:  ehello\n",
      "epoch: 35, loss: 0.663\n",
      "Predicted string:  ehello\n",
      "epoch: 36, loss: 0.656\n",
      "Predicted string:  ehello\n",
      "epoch: 37, loss: 0.636\n",
      "Predicted string:  ehello\n",
      "epoch: 38, loss: 0.625\n",
      "Predicted string:  ihello\n",
      "epoch: 39, loss: 0.632\n",
      "Predicted string:  ihello\n",
      "epoch: 40, loss: 0.640\n",
      "Predicted string:  ihello\n",
      "epoch: 41, loss: 0.620\n",
      "Predicted string:  ihello\n",
      "epoch: 42, loss: 0.615\n",
      "Predicted string:  ihello\n",
      "epoch: 43, loss: 0.618\n",
      "Predicted string:  ihello\n",
      "epoch: 44, loss: 0.615\n",
      "Predicted string:  ihello\n",
      "epoch: 45, loss: 0.615\n",
      "Predicted string:  ihello\n",
      "epoch: 46, loss: 0.612\n",
      "Predicted string:  ihello\n",
      "epoch: 47, loss: 0.603\n",
      "Predicted string:  ihello\n",
      "epoch: 48, loss: 0.594\n",
      "Predicted string:  ihello\n",
      "epoch: 49, loss: 0.589\n",
      "Predicted string:  ihello\n",
      "epoch: 50, loss: 0.588\n",
      "Predicted string:  ihello\n",
      "epoch: 51, loss: 0.586\n",
      "Predicted string:  ihello\n",
      "epoch: 52, loss: 0.585\n",
      "Predicted string:  ihello\n",
      "epoch: 53, loss: 0.579\n",
      "Predicted string:  ihello\n",
      "epoch: 54, loss: 0.575\n",
      "Predicted string:  ihello\n",
      "epoch: 55, loss: 0.573\n",
      "Predicted string:  ihello\n",
      "epoch: 56, loss: 0.569\n",
      "Predicted string:  ihello\n",
      "epoch: 57, loss: 0.568\n",
      "Predicted string:  ihello\n",
      "epoch: 58, loss: 0.565\n",
      "Predicted string:  ihello\n",
      "epoch: 59, loss: 0.563\n",
      "Predicted string:  ihello\n",
      "epoch: 60, loss: 0.561\n",
      "Predicted string:  ihello\n",
      "epoch: 61, loss: 0.559\n",
      "Predicted string:  ihello\n",
      "epoch: 62, loss: 0.556\n",
      "Predicted string:  ihello\n",
      "epoch: 63, loss: 0.553\n",
      "Predicted string:  ihello\n",
      "epoch: 64, loss: 0.550\n",
      "Predicted string:  ihello\n",
      "epoch: 65, loss: 0.547\n",
      "Predicted string:  ihello\n",
      "epoch: 66, loss: 0.544\n",
      "Predicted string:  ihello\n",
      "epoch: 67, loss: 0.540\n",
      "Predicted string:  ihello\n",
      "epoch: 68, loss: 0.536\n",
      "Predicted string:  ihello\n",
      "epoch: 69, loss: 0.532\n",
      "Predicted string:  ihello\n",
      "epoch: 70, loss: 0.527\n",
      "Predicted string:  ihello\n",
      "epoch: 71, loss: 0.521\n",
      "Predicted string:  ihello\n",
      "epoch: 72, loss: 0.516\n",
      "Predicted string:  ihello\n",
      "epoch: 73, loss: 0.512\n",
      "Predicted string:  ihello\n",
      "epoch: 74, loss: 0.510\n",
      "Predicted string:  ihello\n",
      "epoch: 75, loss: 0.508\n",
      "Predicted string:  ihello\n",
      "epoch: 76, loss: 0.506\n",
      "Predicted string:  ihello\n",
      "epoch: 77, loss: 0.503\n",
      "Predicted string:  ihello\n",
      "epoch: 78, loss: 0.500\n",
      "Predicted string:  ihello\n",
      "epoch: 79, loss: 0.496\n",
      "Predicted string:  ihello\n",
      "epoch: 80, loss: 0.493\n",
      "Predicted string:  ihello\n",
      "epoch: 81, loss: 0.491\n",
      "Predicted string:  ihello\n",
      "epoch: 82, loss: 0.489\n",
      "Predicted string:  ihello\n",
      "epoch: 83, loss: 0.488\n",
      "Predicted string:  ihello\n",
      "epoch: 84, loss: 0.486\n",
      "Predicted string:  ihello\n",
      "epoch: 85, loss: 0.485\n",
      "Predicted string:  ihello\n",
      "epoch: 86, loss: 0.484\n",
      "Predicted string:  ihello\n",
      "epoch: 87, loss: 0.482\n",
      "Predicted string:  ihello\n",
      "epoch: 88, loss: 0.481\n",
      "Predicted string:  ihello\n",
      "epoch: 89, loss: 0.480\n",
      "Predicted string:  ihello\n",
      "epoch: 90, loss: 0.479\n",
      "Predicted string:  ihello\n",
      "epoch: 91, loss: 0.478\n",
      "Predicted string:  ihello\n",
      "epoch: 92, loss: 0.477\n",
      "Predicted string:  ihello\n",
      "epoch: 93, loss: 0.476\n",
      "Predicted string:  ihello\n",
      "epoch: 94, loss: 0.475\n",
      "Predicted string:  ihello\n",
      "epoch: 95, loss: 0.474\n",
      "Predicted string:  ihello\n",
      "epoch: 96, loss: 0.473\n",
      "Predicted string:  ihello\n",
      "epoch: 97, loss: 0.473\n",
      "Predicted string:  ihello\n",
      "epoch: 98, loss: 0.472\n",
      "Predicted string:  ihello\n",
      "epoch: 99, loss: 0.472\n",
      "Predicted string:  ihello\n",
      "epoch: 100, loss: 0.471\n",
      "Predicted string:  ihello\n",
      "Learning finished!\n"
     ]
    }
   ],
   "source": [
    "# Train the model\n",
    "for epoch in range(100):\n",
    "    outputs = rnn(inputs)\n",
    "    optimizer.zero_grad()\n",
    "    loss = criterion(outputs, labels)\n",
    "    loss.backward()\n",
    "    optimizer.step()\n",
    "    # output (6,5) seq_len, output_size\n",
    "    _, idx = outputs.max(1) # 각 행별로 가장 큰 수와 그 수의 위치\n",
    "    idx = idx.data.numpy()  # tensor to numpy\n",
    "    \n",
    "    result_str = [idx2char[c] for c in idx.squeeze()] # 그 위치에 해당하는 char가져오기\n",
    "    print(\"epoch: %d, loss: %1.3f\" % (epoch + 1, loss.data))\n",
    "    print(\"Predicted string: \", ''.join(result_str))\n",
    "\n",
    "print(\"Learning finished!\")\n",
    "\n",
    "# 처음에는 랜덤으로 배정된 parameter때문에 lolioe로 시작 epoch8 부터 ihello 출력됨"
   ]
  }
 ],
 "metadata": {
  "kernelspec": {
   "display_name": "Python 3",
   "language": "python",
   "name": "python3"
  },
  "language_info": {
   "codemirror_mode": {
    "name": "ipython",
    "version": 3
   },
   "file_extension": ".py",
   "mimetype": "text/x-python",
   "name": "python",
   "nbconvert_exporter": "python",
   "pygments_lexer": "ipython3",
   "version": "3.6.5"
  }
 },
 "nbformat": 4,
 "nbformat_minor": 2
}
