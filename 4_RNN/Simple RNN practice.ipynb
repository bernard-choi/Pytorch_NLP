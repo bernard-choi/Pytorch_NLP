{
 "cells": [
  {
   "cell_type": "markdown",
   "metadata": {},
   "source": [
    "## Reference\n",
    "[최근호님 pytorch-Fastcampus](https://github.com/GunhoChoi/PyTorch-FastCampus/blob/9028266c7297a13365fac2b7f117397e292b2f5c/05_RNN/0_Basic/Simple_Char_RNNcell.ipynb)"
   ]
  },
  {
   "cell_type": "markdown",
   "metadata": {},
   "source": [
    "## 1. Settings\n",
    "### 1) Import Required Libraries"
   ]
  },
  {
   "cell_type": "code",
   "execution_count": 5,
   "metadata": {},
   "outputs": [],
   "source": [
    "import torch \n",
    "import torch.nn as nn\n",
    "import torch.optim as optim\n",
    "from torch.autograd import Variable\n",
    "import numpy as np"
   ]
  },
  {
   "cell_type": "markdown",
   "metadata": {},
   "source": [
    "### 2) Hyperparameters & Data"
   ]
  },
  {
   "cell_type": "code",
   "execution_count": 3,
   "metadata": {},
   "outputs": [],
   "source": [
    "# preprocessing string data\n",
    "# alphabet(0-25), others(26~32), start(33), end(34) - > 35 characters\n",
    "\n",
    "n_hidden = 50\n",
    "lr = 0.01\n",
    "epochs = 2000\n",
    "\n",
    "string = \"hello pytorch, how long can a rnn cell remember?\" # show us your limit!\n",
    "chars = \"abcdefghijklmnopqrstuvwxyz ?!.,:;01\"\n",
    "char_list = [i for i in chars]\n",
    "char_len = len(char_list)  # 35\n",
    "n_letters = len(char_list) # 35"
   ]
  },
  {
   "cell_type": "code",
   "execution_count": 4,
   "metadata": {},
   "outputs": [
    {
     "data": {
      "text/plain": [
       "['a',\n",
       " 'b',\n",
       " 'c',\n",
       " 'd',\n",
       " 'e',\n",
       " 'f',\n",
       " 'g',\n",
       " 'h',\n",
       " 'i',\n",
       " 'j',\n",
       " 'k',\n",
       " 'l',\n",
       " 'm',\n",
       " 'n',\n",
       " 'o',\n",
       " 'p',\n",
       " 'q',\n",
       " 'r',\n",
       " 's',\n",
       " 't',\n",
       " 'u',\n",
       " 'v',\n",
       " 'w',\n",
       " 'x',\n",
       " 'y',\n",
       " 'z',\n",
       " ' ',\n",
       " '?',\n",
       " '!',\n",
       " '.',\n",
       " ',',\n",
       " ':',\n",
       " ';',\n",
       " '0',\n",
       " '1']"
      ]
     },
     "execution_count": 4,
     "metadata": {},
     "output_type": "execute_result"
    }
   ],
   "source": [
    "char_list"
   ]
  },
  {
   "cell_type": "code",
   "execution_count": 6,
   "metadata": {},
   "outputs": [
    {
     "data": {
      "text/plain": [
       "1"
      ]
     },
     "execution_count": 6,
     "metadata": {},
     "output_type": "execute_result"
    }
   ],
   "source": [
    "char_list.index('b')"
   ]
  },
  {
   "cell_type": "code",
   "execution_count": 7,
   "metadata": {},
   "outputs": [
    {
     "data": {
      "text/plain": [
       "35"
      ]
     },
     "execution_count": 7,
     "metadata": {},
     "output_type": "execute_result"
    }
   ],
   "source": [
    "n_letters"
   ]
  },
  {
   "cell_type": "markdown",
   "metadata": {},
   "source": [
    "### 3) String to One-hot"
   ]
  },
  {
   "cell_type": "code",
   "execution_count": 8,
   "metadata": {},
   "outputs": [],
   "source": [
    "# string to onehot vector\n",
    "# a -> [1,0,0,0 ... 0 0]\n",
    "\n",
    "def string_to_onehot(string):\n",
    "    start= np.zeros(shape=len(char_list), dtype = int)\n",
    "    end = np.zeros(shape=len(char_list), dtype = int)\n",
    "    start[-2] = 1\n",
    "    end[-1] = 1\n",
    "    for i in string:\n",
    "        idx = char_list.index(i)                     # char_list.index(a)이면 a의 위치를 뽑아냄. 즉 0이 나옴\n",
    "        zero = np.zeros(shape=char_len, dtype = int)\n",
    "        zero[idx]=1\n",
    "        start = np.vstack([start,zero])\n",
    "    output = np.vstack([start,end])\n",
    "    return output"
   ]
  },
  {
   "cell_type": "code",
   "execution_count": 9,
   "metadata": {},
   "outputs": [
    {
     "data": {
      "text/plain": [
       "array([[0, 0, 0, 0, 0, 0, 0, 0, 0, 0, 0, 0, 0, 0, 0, 0, 0, 0, 0, 0, 0, 0,\n",
       "        0, 0, 0, 0, 0, 0, 0, 0, 0, 0, 0, 1, 0],\n",
       "       [1, 0, 0, 0, 0, 0, 0, 0, 0, 0, 0, 0, 0, 0, 0, 0, 0, 0, 0, 0, 0, 0,\n",
       "        0, 0, 0, 0, 0, 0, 0, 0, 0, 0, 0, 0, 0],\n",
       "       [0, 0, 0, 0, 0, 0, 0, 0, 0, 0, 0, 0, 0, 0, 0, 0, 0, 0, 0, 0, 0, 0,\n",
       "        0, 0, 0, 0, 0, 0, 0, 0, 0, 0, 0, 0, 1]])"
      ]
     },
     "execution_count": 9,
     "metadata": {},
     "output_type": "execute_result"
    }
   ],
   "source": [
    "string_to_onehot('a')"
   ]
  },
  {
   "cell_type": "markdown",
   "metadata": {},
   "source": [
    "### 4) One-hot to Character"
   ]
  },
  {
   "cell_type": "code",
   "execution_count": 46,
   "metadata": {},
   "outputs": [],
   "source": [
    "# Onehot vector to word\n",
    "# [1 0 0 0 0 ... 0] -> a\n",
    "\n",
    "def onehot_to_word(onehot_1):\n",
    "    onehot = torch.Tensor.numpy(onehot_1)\n",
    "    return char_list[onehot.argmax()]"
   ]
  },
  {
   "cell_type": "markdown",
   "metadata": {},
   "source": [
    "## 2. RNN class"
   ]
  },
  {
   "cell_type": "code",
   "execution_count": 10,
   "metadata": {},
   "outputs": [],
   "source": [
    "# RNN woth 1 hidden layer\n",
    "class RNN(nn.Module):\n",
    "    def __init__(self,  input_size, hidden_size,output_size):\n",
    "        super(RNN, self).__init__()\n",
    "        \n",
    "        self.input_size = input_size\n",
    "        self.hidden_size = hidden_size\n",
    "        self.output_size = output_size\n",
    "        \n",
    "        self.i2h = nn.Linear(input_size, hidden_size)\n",
    "        self.h2h = nn.Linear(hidden_size, hidden_size)\n",
    "        self.i2o = nn.Linear(hidden_size, output_size)\n",
    "        self.act_fn = nn.Tanh()\n",
    "        \n",
    "    def forward(self, input, hidden):\n",
    "        hidden = self.act_fn(self.i2h(input) + self.h2h(hidden))\n",
    "        output = self.i2o(hidden)\n",
    "        return output, hidden\n",
    "    \n",
    "    def init_hidden(self):\n",
    "        return Variable(torch.zeros(1, self.hidden_size))\n",
    "    \n",
    "rnn = RNN(n_letters, n_hidden, n_letters)\n",
    "    "
   ]
  },
  {
   "cell_type": "markdown",
   "metadata": {},
   "source": [
    "## 3. Loss function  & Optimizer"
   ]
  },
  {
   "cell_type": "code",
   "execution_count": 11,
   "metadata": {},
   "outputs": [],
   "source": [
    "criterion = nn.MSELoss()\n",
    "optimizer = torch.optim.Adam(rnn.parameters(), lr = lr)"
   ]
  },
  {
   "cell_type": "markdown",
   "metadata": {},
   "source": [
    "## 4. Train"
   ]
  },
  {
   "cell_type": "code",
   "execution_count": 12,
   "metadata": {},
   "outputs": [
    {
     "data": {
      "text/plain": [
       "'hello pytorch, how long can a rnn cell remember?'"
      ]
     },
     "execution_count": 12,
     "metadata": {},
     "output_type": "execute_result"
    }
   ],
   "source": [
    "string"
   ]
  },
  {
   "cell_type": "code",
   "execution_count": 13,
   "metadata": {},
   "outputs": [
    {
     "data": {
      "text/plain": [
       "array([[0, 0, 0, ..., 0, 1, 0],\n",
       "       [0, 0, 0, ..., 0, 0, 0],\n",
       "       [0, 0, 0, ..., 0, 0, 0],\n",
       "       ...,\n",
       "       [0, 0, 0, ..., 0, 0, 0],\n",
       "       [0, 0, 0, ..., 0, 0, 0],\n",
       "       [0, 0, 0, ..., 0, 0, 1]])"
      ]
     },
     "execution_count": 13,
     "metadata": {},
     "output_type": "execute_result"
    }
   ],
   "source": [
    "string_to_onehot(string)"
   ]
  },
  {
   "cell_type": "code",
   "execution_count": 14,
   "metadata": {},
   "outputs": [],
   "source": [
    "one_hot = torch.from_numpy(string_to_onehot(string)).type_as(torch.FloatTensor())"
   ]
  },
  {
   "cell_type": "code",
   "execution_count": 15,
   "metadata": {},
   "outputs": [
    {
     "data": {
      "text/plain": [
       "tensor([[0., 0., 0.,  ..., 0., 1., 0.],\n",
       "        [0., 0., 0.,  ..., 0., 0., 0.],\n",
       "        [0., 0., 0.,  ..., 0., 0., 0.],\n",
       "        ...,\n",
       "        [0., 0., 0.,  ..., 0., 0., 0.],\n",
       "        [0., 0., 0.,  ..., 0., 0., 0.],\n",
       "        [0., 0., 0.,  ..., 0., 0., 1.]])"
      ]
     },
     "execution_count": 15,
     "metadata": {},
     "output_type": "execute_result"
    }
   ],
   "source": [
    "one_hot"
   ]
  },
  {
   "cell_type": "code",
   "execution_count": 20,
   "metadata": {},
   "outputs": [
    {
     "data": {
      "text/plain": [
       "50"
      ]
     },
     "execution_count": 20,
     "metadata": {},
     "output_type": "execute_result"
    }
   ],
   "source": [
    "len(string) +2"
   ]
  },
  {
   "cell_type": "code",
   "execution_count": 17,
   "metadata": {},
   "outputs": [
    {
     "data": {
      "text/plain": [
       "torch.Size([50, 35])"
      ]
     },
     "execution_count": 17,
     "metadata": {},
     "output_type": "execute_result"
    }
   ],
   "source": [
    "one_hot.size() ## string길이에다가 start 랑 end 넣어줘서 sentence_length 50"
   ]
  },
  {
   "cell_type": "code",
   "execution_count": 32,
   "metadata": {},
   "outputs": [
    {
     "data": {
      "text/plain": [
       "tensor([0., 0., 0., 0., 0., 0., 0., 0., 0., 0., 0., 0., 0., 0., 0., 0., 0., 0.,\n",
       "        0., 0., 0., 0., 0., 0., 0., 0., 0., 0., 0., 0., 0., 0., 0., 1., 0.])"
      ]
     },
     "execution_count": 32,
     "metadata": {},
     "output_type": "execute_result"
    }
   ],
   "source": [
    "one_hot[0]"
   ]
  },
  {
   "cell_type": "code",
   "execution_count": 36,
   "metadata": {},
   "outputs": [
    {
     "name": "stdout",
     "output_type": "stream",
     "text": [
      "tensor([0., 0., 0., 0., 0., 0., 0., 1., 0., 0., 0., 0., 0., 0., 0., 0., 0., 0.,\n",
      "        0., 0., 0., 0., 0., 0., 0., 0., 0., 0., 0., 0., 0., 0., 0., 0., 0.])\n"
     ]
    }
   ],
   "source": [
    "hidden = rnn.init_hidden()\n",
    "for j in range(1):\n",
    "    input = Variable(one_hot[j:j+1,:])\n",
    "    output, hidden = rnn.forward(input, hidden)\n",
    "    labels = Variable(one_hot[j+1])\n",
    "    print(labels.view(-1))\n",
    "    "
   ]
  },
  {
   "cell_type": "code",
   "execution_count": 38,
   "metadata": {},
   "outputs": [
    {
     "name": "stdout",
     "output_type": "stream",
     "text": [
      "tensor([ 0.0328, -0.2014,  0.0032, -0.0185,  0.0866,  0.0301, -0.0227, -0.0729,\n",
      "        -0.1680, -0.1159,  0.0769,  0.1172,  0.1044,  0.1052,  0.0147,  0.0057,\n",
      "        -0.0349, -0.1002,  0.0653,  0.0959, -0.0064, -0.1935, -0.0439,  0.0275,\n",
      "         0.1473, -0.0518, -0.0269,  0.1545,  0.0190, -0.0853, -0.0068,  0.1318,\n",
      "         0.0402,  0.1295,  0.0308], grad_fn=<ViewBackward>)\n"
     ]
    }
   ],
   "source": [
    "hidden = rnn.init_hidden()\n",
    "for j in range(1):\n",
    "    input = Variable(one_hot[j:j+1,:])\n",
    "    output, hidden = rnn.forward(input, hidden)\n",
    "    labels = Variable(one_hot[j+1])\n",
    "    print(output.view(-1))"
   ]
  },
  {
   "cell_type": "code",
   "execution_count": 42,
   "metadata": {},
   "outputs": [
    {
     "name": "stdout",
     "output_type": "stream",
     "text": [
      "tensor(9.5325e-05, grad_fn=<AddBackward0>)\n",
      "tensor(0.0006, grad_fn=<AddBackward0>)\n",
      "tensor(0.0002, grad_fn=<AddBackward0>)\n",
      "tensor(0.0001, grad_fn=<AddBackward0>)\n",
      "tensor(0.0001, grad_fn=<AddBackward0>)\n",
      "tensor(0.0003, grad_fn=<AddBackward0>)\n",
      "tensor(0.0002, grad_fn=<AddBackward0>)\n",
      "tensor(0.0001, grad_fn=<AddBackward0>)\n",
      "tensor(9.6161e-05, grad_fn=<AddBackward0>)\n",
      "tensor(5.7402e-05, grad_fn=<AddBackward0>)\n",
      "tensor(1.1110e-05, grad_fn=<AddBackward0>)\n",
      "tensor(9.4862e-06, grad_fn=<AddBackward0>)\n",
      "tensor(2.1074e-05, grad_fn=<AddBackward0>)\n",
      "tensor(0.0002, grad_fn=<AddBackward0>)\n",
      "tensor(0.0002, grad_fn=<AddBackward0>)\n",
      "tensor(0.0004, grad_fn=<AddBackward0>)\n",
      "tensor(0.0003, grad_fn=<AddBackward0>)\n",
      "tensor(0.0003, grad_fn=<AddBackward0>)\n",
      "tensor(0.0002, grad_fn=<AddBackward0>)\n",
      "tensor(0.0005, grad_fn=<AddBackward0>)\n",
      "tensor(0.0002, grad_fn=<AddBackward0>)\n",
      "tensor(7.6741e-05, grad_fn=<AddBackward0>)\n",
      "tensor(2.0166e-05, grad_fn=<AddBackward0>)\n",
      "tensor(6.8083e-06, grad_fn=<AddBackward0>)\n",
      "tensor(4.5172e-06, grad_fn=<AddBackward0>)\n",
      "tensor(1.3669e-05, grad_fn=<AddBackward0>)\n",
      "tensor(0.0002, grad_fn=<AddBackward0>)\n",
      "tensor(0.0003, grad_fn=<AddBackward0>)\n",
      "tensor(0.0002, grad_fn=<AddBackward0>)\n",
      "tensor(7.0208e-05, grad_fn=<AddBackward0>)\n",
      "tensor(2.3622e-05, grad_fn=<AddBackward0>)\n",
      "tensor(9.3738e-06, grad_fn=<AddBackward0>)\n",
      "tensor(1.0386e-05, grad_fn=<AddBackward0>)\n",
      "tensor(9.9792e-05, grad_fn=<AddBackward0>)\n",
      "tensor(0.0005, grad_fn=<AddBackward0>)\n",
      "tensor(0.0001, grad_fn=<AddBackward0>)\n",
      "tensor(0.0003, grad_fn=<AddBackward0>)\n",
      "tensor(0.0005, grad_fn=<AddBackward0>)\n",
      "tensor(0.0001, grad_fn=<AddBackward0>)\n",
      "tensor(7.9525e-05, grad_fn=<AddBackward0>)\n",
      "tensor(0.0002, grad_fn=<AddBackward0>)\n",
      "tensor(8.6050e-05, grad_fn=<AddBackward0>)\n",
      "tensor(2.1795e-05, grad_fn=<AddBackward0>)\n",
      "tensor(8.6815e-06, grad_fn=<AddBackward0>)\n",
      "tensor(6.1794e-06, grad_fn=<AddBackward0>)\n",
      "tensor(2.0245e-05, grad_fn=<AddBackward0>)\n",
      "tensor(0.0004, grad_fn=<AddBackward0>)\n",
      "tensor(0.0001, grad_fn=<AddBackward0>)\n",
      "tensor(0.0003, grad_fn=<AddBackward0>)\n",
      "tensor(0.0004, grad_fn=<AddBackward0>)\n",
      "tensor(0.0002, grad_fn=<AddBackward0>)\n",
      "tensor(8.1325e-05, grad_fn=<AddBackward0>)\n",
      "tensor(2.6780e-05, grad_fn=<AddBackward0>)\n",
      "tensor(1.6330e-05, grad_fn=<AddBackward0>)\n",
      "tensor(1.8913e-05, grad_fn=<AddBackward0>)\n",
      "tensor(0.0001, grad_fn=<AddBackward0>)\n",
      "tensor(0.0002, grad_fn=<AddBackward0>)\n",
      "tensor(0.0004, grad_fn=<AddBackward0>)\n",
      "tensor(8.6166e-05, grad_fn=<AddBackward0>)\n",
      "tensor(0.0001, grad_fn=<AddBackward0>)\n",
      "tensor(0.0007, grad_fn=<AddBackward0>)\n",
      "tensor(0.0002, grad_fn=<AddBackward0>)\n",
      "tensor(9.8147e-05, grad_fn=<AddBackward0>)\n",
      "tensor(0.0002, grad_fn=<AddBackward0>)\n",
      "tensor(3.3036e-05, grad_fn=<AddBackward0>)\n",
      "tensor(1.4304e-05, grad_fn=<AddBackward0>)\n",
      "tensor(2.7803e-05, grad_fn=<AddBackward0>)\n",
      "tensor(0.0003, grad_fn=<AddBackward0>)\n",
      "tensor(0.0002, grad_fn=<AddBackward0>)\n",
      "tensor(0.0002, grad_fn=<AddBackward0>)\n",
      "tensor(0.0001, grad_fn=<AddBackward0>)\n",
      "tensor(0.0003, grad_fn=<AddBackward0>)\n",
      "tensor(0.0003, grad_fn=<AddBackward0>)\n",
      "tensor(5.0578e-05, grad_fn=<AddBackward0>)\n",
      "tensor(2.9151e-05, grad_fn=<AddBackward0>)\n",
      "tensor(1.5370e-05, grad_fn=<AddBackward0>)\n",
      "tensor(2.4535e-05, grad_fn=<AddBackward0>)\n",
      "tensor(0.0004, grad_fn=<AddBackward0>)\n",
      "tensor(0.0001, grad_fn=<AddBackward0>)\n",
      "tensor(0.0001, grad_fn=<AddBackward0>)\n",
      "tensor(0.0002, grad_fn=<AddBackward0>)\n",
      "tensor(0.0003, grad_fn=<AddBackward0>)\n",
      "tensor(0.0003, grad_fn=<AddBackward0>)\n",
      "tensor(0.0001, grad_fn=<AddBackward0>)\n",
      "tensor(6.6823e-05, grad_fn=<AddBackward0>)\n",
      "tensor(0.0001, grad_fn=<AddBackward0>)\n",
      "tensor(5.4821e-05, grad_fn=<AddBackward0>)\n",
      "tensor(4.2509e-05, grad_fn=<AddBackward0>)\n",
      "tensor(0.0001, grad_fn=<AddBackward0>)\n",
      "tensor(6.7600e-05, grad_fn=<AddBackward0>)\n",
      "tensor(0.0001, grad_fn=<AddBackward0>)\n",
      "tensor(0.0003, grad_fn=<AddBackward0>)\n",
      "tensor(0.0003, grad_fn=<AddBackward0>)\n",
      "tensor(0.0002, grad_fn=<AddBackward0>)\n",
      "tensor(0.0003, grad_fn=<AddBackward0>)\n",
      "tensor(0.0004, grad_fn=<AddBackward0>)\n",
      "tensor(0.0001, grad_fn=<AddBackward0>)\n",
      "tensor(9.2908e-05, grad_fn=<AddBackward0>)\n",
      "tensor(4.1653e-05, grad_fn=<AddBackward0>)\n",
      "tensor(2.8518e-05, grad_fn=<AddBackward0>)\n",
      "tensor(4.6216e-05, grad_fn=<AddBackward0>)\n",
      "tensor(8.0889e-05, grad_fn=<AddBackward0>)\n",
      "tensor(0.0002, grad_fn=<AddBackward0>)\n",
      "tensor(0.0002, grad_fn=<AddBackward0>)\n",
      "tensor(9.1911e-05, grad_fn=<AddBackward0>)\n",
      "tensor(0.0003, grad_fn=<AddBackward0>)\n",
      "tensor(0.0002, grad_fn=<AddBackward0>)\n",
      "tensor(0.0005, grad_fn=<AddBackward0>)\n",
      "tensor(0.0002, grad_fn=<AddBackward0>)\n",
      "tensor(8.0138e-05, grad_fn=<AddBackward0>)\n",
      "tensor(5.8436e-05, grad_fn=<AddBackward0>)\n",
      "tensor(0.0003, grad_fn=<AddBackward0>)\n",
      "tensor(0.0002, grad_fn=<AddBackward0>)\n",
      "tensor(0.0001, grad_fn=<AddBackward0>)\n",
      "tensor(7.3738e-05, grad_fn=<AddBackward0>)\n",
      "tensor(0.0002, grad_fn=<AddBackward0>)\n",
      "tensor(5.6003e-05, grad_fn=<AddBackward0>)\n",
      "tensor(5.4769e-05, grad_fn=<AddBackward0>)\n",
      "tensor(8.7711e-05, grad_fn=<AddBackward0>)\n",
      "tensor(3.7003e-05, grad_fn=<AddBackward0>)\n",
      "tensor(4.2561e-05, grad_fn=<AddBackward0>)\n",
      "tensor(4.8656e-05, grad_fn=<AddBackward0>)\n",
      "tensor(0.0003, grad_fn=<AddBackward0>)\n",
      "tensor(0.0004, grad_fn=<AddBackward0>)\n",
      "tensor(0.0003, grad_fn=<AddBackward0>)\n",
      "tensor(0.0002, grad_fn=<AddBackward0>)\n",
      "tensor(0.0004, grad_fn=<AddBackward0>)\n",
      "tensor(0.0002, grad_fn=<AddBackward0>)\n",
      "tensor(7.9297e-05, grad_fn=<AddBackward0>)\n",
      "tensor(2.7716e-05, grad_fn=<AddBackward0>)\n",
      "tensor(4.3716e-05, grad_fn=<AddBackward0>)\n",
      "tensor(0.0004, grad_fn=<AddBackward0>)\n",
      "tensor(0.0002, grad_fn=<AddBackward0>)\n",
      "tensor(0.0004, grad_fn=<AddBackward0>)\n",
      "tensor(0.0004, grad_fn=<AddBackward0>)\n",
      "tensor(0.0002, grad_fn=<AddBackward0>)\n",
      "tensor(7.3976e-05, grad_fn=<AddBackward0>)\n",
      "tensor(4.0802e-05, grad_fn=<AddBackward0>)\n",
      "tensor(8.7788e-05, grad_fn=<AddBackward0>)\n",
      "tensor(4.9598e-05, grad_fn=<AddBackward0>)\n",
      "tensor(3.6442e-05, grad_fn=<AddBackward0>)\n",
      "tensor(1.8882e-05, grad_fn=<AddBackward0>)\n",
      "tensor(6.7519e-05, grad_fn=<AddBackward0>)\n",
      "tensor(0.0004, grad_fn=<AddBackward0>)\n",
      "tensor(0.0002, grad_fn=<AddBackward0>)\n",
      "tensor(0.0003, grad_fn=<AddBackward0>)\n",
      "tensor(0.0001, grad_fn=<AddBackward0>)\n",
      "tensor(6.1498e-05, grad_fn=<AddBackward0>)\n",
      "tensor(0.0001, grad_fn=<AddBackward0>)\n",
      "tensor(9.5282e-05, grad_fn=<AddBackward0>)\n",
      "tensor(0.0002, grad_fn=<AddBackward0>)\n",
      "tensor(0.0003, grad_fn=<AddBackward0>)\n",
      "tensor(0.0003, grad_fn=<AddBackward0>)\n",
      "tensor(0.0003, grad_fn=<AddBackward0>)\n",
      "tensor(8.4022e-05, grad_fn=<AddBackward0>)\n",
      "tensor(0.0001, grad_fn=<AddBackward0>)\n",
      "tensor(0.0001, grad_fn=<AddBackward0>)\n",
      "tensor(6.4421e-05, grad_fn=<AddBackward0>)\n",
      "tensor(0.0002, grad_fn=<AddBackward0>)\n",
      "tensor(0.0001, grad_fn=<AddBackward0>)\n",
      "tensor(5.3655e-05, grad_fn=<AddBackward0>)\n",
      "tensor(0.0003, grad_fn=<AddBackward0>)\n",
      "tensor(0.0002, grad_fn=<AddBackward0>)\n",
      "tensor(6.4561e-05, grad_fn=<AddBackward0>)\n",
      "tensor(0.0003, grad_fn=<AddBackward0>)\n",
      "tensor(0.0002, grad_fn=<AddBackward0>)\n",
      "tensor(0.0002, grad_fn=<AddBackward0>)\n",
      "tensor(0.0003, grad_fn=<AddBackward0>)\n",
      "tensor(0.0003, grad_fn=<AddBackward0>)\n",
      "tensor(3.8746e-05, grad_fn=<AddBackward0>)\n",
      "tensor(3.5304e-05, grad_fn=<AddBackward0>)\n",
      "tensor(0.0003, grad_fn=<AddBackward0>)\n",
      "tensor(0.0001, grad_fn=<AddBackward0>)\n",
      "tensor(0.0002, grad_fn=<AddBackward0>)\n",
      "tensor(0.0002, grad_fn=<AddBackward0>)\n",
      "tensor(0.0002, grad_fn=<AddBackward0>)\n",
      "tensor(6.0091e-05, grad_fn=<AddBackward0>)\n",
      "tensor(3.5482e-05, grad_fn=<AddBackward0>)\n",
      "tensor(0.0001, grad_fn=<AddBackward0>)\n",
      "tensor(3.0004e-05, grad_fn=<AddBackward0>)\n",
      "tensor(4.1925e-05, grad_fn=<AddBackward0>)\n",
      "tensor(0.0001, grad_fn=<AddBackward0>)\n",
      "tensor(0.0001, grad_fn=<AddBackward0>)\n",
      "tensor(0.0002, grad_fn=<AddBackward0>)\n",
      "tensor(0.0003, grad_fn=<AddBackward0>)\n",
      "tensor(0.0004, grad_fn=<AddBackward0>)\n",
      "tensor(0.0007, grad_fn=<AddBackward0>)\n",
      "tensor(0.0003, grad_fn=<AddBackward0>)\n",
      "tensor(0.0001, grad_fn=<AddBackward0>)\n",
      "tensor(6.6965e-05, grad_fn=<AddBackward0>)\n",
      "tensor(1.8736e-05, grad_fn=<AddBackward0>)\n",
      "tensor(1.1150e-05, grad_fn=<AddBackward0>)\n",
      "tensor(1.4130e-05, grad_fn=<AddBackward0>)\n",
      "tensor(0.0002, grad_fn=<AddBackward0>)\n",
      "tensor(0.0002, grad_fn=<AddBackward0>)\n",
      "tensor(0.0004, grad_fn=<AddBackward0>)\n",
      "tensor(0.0004, grad_fn=<AddBackward0>)\n",
      "tensor(0.0004, grad_fn=<AddBackward0>)\n",
      "tensor(9.7420e-05, grad_fn=<AddBackward0>)\n",
      "tensor(0.0002, grad_fn=<AddBackward0>)\n"
     ]
    }
   ],
   "source": [
    "for epoch in range(epochs):\n",
    "    rnn.zero_grad() ## gradient 초기화\n",
    "    total_loss = 0 \n",
    "    hidden = rnn.init_hidden() ## hidden 레이어 초기화\n",
    "    ## rnn은 전체 구간을 한번 돌면서 LOSS의 총합을 한꺼번에 UPDATE함 그래서 시간이 훨씬 오래걸림\n",
    "    \n",
    "    for j in range(one_hot.size()[0]-1):\n",
    "        input = Variable(one_hot[j:j+1,:])\n",
    "        output, hidden = rnn.forward(input, hidden)\n",
    "        target = Variable(one_hot[j+1])\n",
    "        loss = criterion(output.view(-1), target.view(-1))\n",
    "        total_loss += loss\n",
    "#        input = output 이거 test단에만 필요한거 아닌가?\n",
    "    \n",
    "    total_loss.backward()\n",
    "    optimizer.step()\n",
    "    \n",
    "    if epoch % 10 == 0:\n",
    "        print(total_loss)"
   ]
  },
  {
   "cell_type": "markdown",
   "metadata": {},
   "source": [
    "## Test"
   ]
  },
  {
   "cell_type": "code",
   "execution_count": 44,
   "metadata": {},
   "outputs": [],
   "source": [
    "hidden = rnn.init_hidden()\n",
    "input = Variable(one_hot[0:1,:]) ## start token주면 어디까지 잘 생성이 될까"
   ]
  },
  {
   "cell_type": "code",
   "execution_count": 47,
   "metadata": {},
   "outputs": [
    {
     "name": "stdout",
     "output_type": "stream",
     "text": [
      "hllo pytorch,,hhw long  an aarrn ccell emmember?"
     ]
    }
   ],
   "source": [
    "for i in range(len(string)):\n",
    "    output, hidden = rnn.forward(input, hidden)\n",
    "    print(onehot_to_word(output.data), end=\"\")\n",
    "    input = output"
   ]
  },
  {
   "cell_type": "code",
   "execution_count": null,
   "metadata": {},
   "outputs": [],
   "source": []
  }
 ],
 "metadata": {
  "kernelspec": {
   "display_name": "Python 3",
   "language": "python",
   "name": "python3"
  },
  "language_info": {
   "codemirror_mode": {
    "name": "ipython",
    "version": 3
   },
   "file_extension": ".py",
   "mimetype": "text/x-python",
   "name": "python",
   "nbconvert_exporter": "python",
   "pygments_lexer": "ipython3",
   "version": "3.6.5"
  }
 },
 "nbformat": 4,
 "nbformat_minor": 2
}
