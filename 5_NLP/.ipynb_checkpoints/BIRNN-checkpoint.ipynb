{
 "cells": [
  {
   "cell_type": "markdown",
   "metadata": {},
   "source": [
    "## 1. Install Packages"
   ]
  },
  {
   "cell_type": "code",
   "execution_count": 85,
   "metadata": {},
   "outputs": [],
   "source": [
    "import numpy as np\n",
    "import torch\n",
    "import torch.nn as nn\n",
    "import torch.optim as optim\n",
    "from torch.autograd import Variable\n",
    "import torch.nn.functional as F"
   ]
  },
  {
   "cell_type": "markdown",
   "metadata": {},
   "source": [
    "## 2. Data Preparation"
   ]
  },
  {
   "cell_type": "code",
   "execution_count": 87,
   "metadata": {},
   "outputs": [],
   "source": [
    "dtype = torch.FloatTensor"
   ]
  },
  {
   "cell_type": "code",
   "execution_count": 105,
   "metadata": {},
   "outputs": [],
   "source": [
    "sentence = (\n",
    "    'Lorem ipsum dolor sit amet consectetur adipisicing elit '\n",
    "    'sed do eiusmod tempor incididunt ut labore et dolore magna '\n",
    "    'aliqua Ut enim ad minim veniam quis nostrud exercitation'\n",
    ")\n",
    "\n",
    "word_dict = {w: i for i, w in enumerate(list(set(sentence.split())))}\n",
    "number_dict = {i: w for i, w in enumerate(list(set(sentence.split())))}\n",
    "word_dict['pad'] = 27             ## padding\n",
    "n_class = len(word_dict)          ## 27\n",
    "max_len = len(sentence.split())   ## 27\n",
    "n_hidden = 5\n",
    "\n",
    "def make_batch(sentence):\n",
    "    input_batch = []\n",
    "    target_batch = []\n",
    "\n",
    "    words = sentence.split()\n",
    "    for i, word in enumerate(words[:-1]):                 ## 마지막 단어 예측해야하니까 26\n",
    "        input = [word_dict[n] for n in words[:(i + 1)]]   ## input:[10], [10,23], [10,23,6] ... 나머지는 패딩\n",
    "        input = input + [0] * (max_len - len(input))\n",
    "        target = word_dict[words[i + 1]]\n",
    "        input_batch.append(np.eye(n_class)[input])         ## np.eye하면 n_class의 one_hot vector를 가져온다. \n",
    "        \n",
    "        target_batch.append(target)                        ## target 은 one_hot encoding이 아니라 label encoded됨\n",
    "\n",
    "    return Variable(torch.Tensor(input_batch)), Variable(torch.LongTensor(target_batch))\n"
   ]
  },
  {
   "cell_type": "markdown",
   "metadata": {},
   "source": [
    "## 3. Modeling"
   ]
  },
  {
   "cell_type": "code",
   "execution_count": 106,
   "metadata": {},
   "outputs": [],
   "source": [
    "class BiLSTM(nn.Module):\n",
    "    def __init__(self):\n",
    "        \n",
    "        super(BiLSTM,self).__init__()\n",
    "\n",
    "        self.lstm = nn.LSTM(input_size = n_class, hidden_size = n_hidden, bidirectional = True)\n",
    "        self.W = nn.Parameter(torch.randn([n_hidden*2, n_class]).type(dtype))\n",
    "        self.b = nn.Parameter(torch.randn([n_class]).type(dtype))\n",
    "    \n",
    "    def forward(self, X):\n",
    "        input = X.transpose(0,1) # input : [n_step, batch_size, n_class] # input : [seq_len, batch_size, n_class]\n",
    "        \n",
    "        hidden_state = Variable(torch.zeros(1*2, len(X), n_hidden))     # [num_layers(=1)* num_directions(=1), batch_size, n_hidden]\n",
    "        cell_state = Variable(torch.zeros(1*2, len(X), n_hidden))       # [num_layers(=1)* num_directions(=1), batch_size, n_hidden]\n",
    "        \n",
    "        outputs, (_,_) = self.lstm(input, (hidden_state, cell_state))   # outputs : [len_seq, batch_size, n_hidden*2]\n",
    "        outputs = outputs[-1]                                           # outputs : [batch_size, n_hidden*2] \n",
    "        \n",
    "        model = torch.mm(outputs,self.W) + self.b                       # model : [batch_size, n_class]\n",
    "        return model\n",
    "    \n",
    "input_batch, target_batch = make_batch(sentence)\n",
    "    "
   ]
  },
  {
   "cell_type": "code",
   "execution_count": 107,
   "metadata": {},
   "outputs": [],
   "source": [
    "model = BiLSTM()"
   ]
  },
  {
   "cell_type": "code",
   "execution_count": 108,
   "metadata": {},
   "outputs": [],
   "source": [
    "criterion = nn.CrossEntropyLoss()\n",
    "optimizer = optim.Adam(model.parameters(), lr = 0.001)"
   ]
  },
  {
   "cell_type": "markdown",
   "metadata": {},
   "source": [
    "## 4. Training"
   ]
  },
  {
   "cell_type": "code",
   "execution_count": 110,
   "metadata": {},
   "outputs": [
    {
     "name": "stdout",
     "output_type": "stream",
     "text": [
      "Epoch: 1000 cost = 1.471057\n",
      "Epoch: 2000 cost = 0.891593\n",
      "Epoch: 3000 cost = 0.504434\n",
      "Epoch: 4000 cost = 0.791116\n",
      "Epoch: 5000 cost = 0.439213\n",
      "Epoch: 6000 cost = 0.285825\n",
      "Epoch: 7000 cost = 0.204100\n",
      "Epoch: 8000 cost = 0.141021\n",
      "Epoch: 9000 cost = 0.100441\n",
      "Epoch: 10000 cost = 0.099431\n"
     ]
    }
   ],
   "source": [
    "# Training\n",
    "for epoch in range(10000):\n",
    "    optimizer.zero_grad()\n",
    "    output = model(input_batch)\n",
    "    loss = criterion(output, target_batch)\n",
    "    if (epoch+1) % 1000 == 0:\n",
    "        print('Epoch:', '%04d' % (epoch + 1), 'cost =', '{:.6f}'.format(loss))\n",
    "        \n",
    "    loss.backward()\n",
    "    optimizer.step()\n"
   ]
  },
  {
   "cell_type": "markdown",
   "metadata": {},
   "source": [
    "## 5. Test"
   ]
  },
  {
   "cell_type": "code",
   "execution_count": 111,
   "metadata": {},
   "outputs": [],
   "source": [
    "predict = model(input_batch).data.max(1,keepdim=True)"
   ]
  },
  {
   "cell_type": "code",
   "execution_count": 113,
   "metadata": {},
   "outputs": [
    {
     "data": {
      "text/plain": [
       "tensor([[23],\n",
       "        [ 6],\n",
       "        [22],\n",
       "        [ 9],\n",
       "        [ 7],\n",
       "        [11],\n",
       "        [19],\n",
       "        [15],\n",
       "        [ 8],\n",
       "        [26],\n",
       "        [ 0],\n",
       "        [ 0],\n",
       "        [14],\n",
       "        [20],\n",
       "        [ 5],\n",
       "        [18],\n",
       "        [12],\n",
       "        [13],\n",
       "        [ 4],\n",
       "        [21],\n",
       "        [16],\n",
       "        [25],\n",
       "        [ 2],\n",
       "        [ 1],\n",
       "        [17],\n",
       "        [ 3]])"
      ]
     },
     "execution_count": 113,
     "metadata": {},
     "output_type": "execute_result"
    }
   ],
   "source": [
    "predict[1]"
   ]
  },
  {
   "cell_type": "code",
   "execution_count": 115,
   "metadata": {},
   "outputs": [
    {
     "name": "stdout",
     "output_type": "stream",
     "text": [
      "['ipsum', 'dolor', 'sit', 'amet', 'consectetur', 'adipisicing', 'elit', 'sed', 'do', 'eiusmod', 'tempor', 'tempor', 'ut', 'labore', 'et', 'dolore', 'magna', 'aliqua', 'Ut', 'enim', 'ad', 'minim', 'veniam', 'quis', 'nostrud', 'exercitation']\n"
     ]
    }
   ],
   "source": [
    "print([number_dict[n.item()] for n in predict[1].squeeze()])"
   ]
  }
 ],
 "metadata": {
  "kernelspec": {
   "display_name": "Python 3",
   "language": "python",
   "name": "python3"
  },
  "language_info": {
   "codemirror_mode": {
    "name": "ipython",
    "version": 3
   },
   "file_extension": ".py",
   "mimetype": "text/x-python",
   "name": "python",
   "nbconvert_exporter": "python",
   "pygments_lexer": "ipython3",
   "version": "3.6.5"
  }
 },
 "nbformat": 4,
 "nbformat_minor": 2
}
