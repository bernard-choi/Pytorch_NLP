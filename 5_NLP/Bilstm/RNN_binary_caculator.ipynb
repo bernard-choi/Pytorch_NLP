{
 "cells": [
  {
   "cell_type": "markdown",
   "metadata": {},
   "source": [
    "## 목표\n",
    "- RNN을 사용하여 이진수 더하기 연산을 학습시킨다"
   ]
  },
  {
   "cell_type": "markdown",
   "metadata": {},
   "source": [
    "## 1. Settings\n",
    "### 1) Import required libraries"
   ]
  },
  {
   "cell_type": "code",
   "execution_count": 1249,
   "metadata": {},
   "outputs": [],
   "source": [
    "import copy, numpy as np\n",
    "import torch\n",
    "import torch.nn as nn\n",
    "from torch.autograd import Variable"
   ]
  },
  {
   "cell_type": "markdown",
   "metadata": {},
   "source": [
    "## 2) Hyperparameter"
   ]
  },
  {
   "cell_type": "code",
   "execution_count": 1410,
   "metadata": {},
   "outputs": [],
   "source": [
    "num_epochs = 10000\n",
    "hidden_size = 16\n",
    "batch_size = 1\n",
    "num_layers = 1\n",
    "lr = 0.01\n",
    "output_size = 2\n",
    "input_size = 2\n",
    "seq_len = 8"
   ]
  },
  {
   "cell_type": "markdown",
   "metadata": {},
   "source": [
    "## Create binary lookup"
   ]
  },
  {
   "cell_type": "code",
   "execution_count": 1411,
   "metadata": {},
   "outputs": [],
   "source": [
    "max_binary_dim = 8\n",
    "largest_number =pow(2,max_binary_dim)"
   ]
  },
  {
   "cell_type": "code",
   "execution_count": 1412,
   "metadata": {},
   "outputs": [
    {
     "data": {
      "text/plain": [
       "array([[0, 0, 0, ..., 0, 0, 0],\n",
       "       [0, 0, 0, ..., 0, 0, 1],\n",
       "       [0, 0, 0, ..., 0, 1, 0],\n",
       "       ...,\n",
       "       [1, 1, 1, ..., 1, 0, 1],\n",
       "       [1, 1, 1, ..., 1, 1, 0],\n",
       "       [1, 1, 1, ..., 1, 1, 1]], dtype=uint8)"
      ]
     },
     "execution_count": 1412,
     "metadata": {},
     "output_type": "execute_result"
    }
   ],
   "source": [
    "binary"
   ]
  },
  {
   "cell_type": "code",
   "execution_count": 1413,
   "metadata": {},
   "outputs": [
    {
     "name": "stdout",
     "output_type": "stream",
     "text": [
      "[0 0 0 0 1 0 0 0]\n",
      "===================\n",
      "(256, 8) [[0 0 0 ... 0 0 0]\n",
      " [0 0 0 ... 0 0 1]\n",
      " [0 0 0 ... 0 1 0]\n",
      " ...\n",
      " [1 1 1 ... 1 0 1]\n",
      " [1 1 1 ... 1 1 0]\n",
      " [1 1 1 ... 1 1 1]]\n",
      "===================\n",
      "lookup table test\n",
      "[0 0 0 0 0 0 1 1] [0 0 0 0 0 0 1 1]\n"
     ]
    }
   ],
   "source": [
    "## Create binary lookup table - 편의상 만든거\n",
    "print(np.unpackbits(np.array([8], dtype = np.uint8)))\n",
    "print(\"===================\")\n",
    "# 이진수로 만들 정수 값들 1~256을 list in list 형태로 만듬.\n",
    "binary = np.unpackbits(np.array([range(largest_number)], dtype=np.uint8).T, axis = 1)\n",
    "print(binary.shape, binary)\n",
    "print(\"===================\")\n",
    "int2binary = {}\n",
    "for i in range(largest_number):\n",
    "    int2binary[i] = binary[i]\n",
    "print(\"lookup table test\")\n",
    "print(binary[3],int2binary[3])"
   ]
  },
  {
   "cell_type": "markdown",
   "metadata": {},
   "source": [
    "## Make dataset"
   ]
  },
  {
   "cell_type": "code",
   "execution_count": 1414,
   "metadata": {},
   "outputs": [],
   "source": [
    "def random_training_set():\n",
    "    a_int = np.random.randint(1,largest_number//2)\n",
    "    a  = int2binary[a_int]\n",
    "    b_int = np.random.randint(1,largest_number//2) ## 두 수를 더해서 256을 넘어가면 안된다.\n",
    "    b = int2binary[b_int]\n",
    "    # 실제 정답 계산\n",
    "    c_int = a_int + b_int\n",
    "    c = int2binary[c_int]\n",
    "    return a_int, b_int, Variable(torch.Tensor(np.array([a,b]))), Variable(torch.LongTensor(np.array([c])))"
   ]
  },
  {
   "cell_type": "markdown",
   "metadata": {},
   "source": [
    "## 3. Model & Optimizer\n",
    "### 1) Model"
   ]
  },
  {
   "cell_type": "code",
   "execution_count": 1415,
   "metadata": {},
   "outputs": [],
   "source": [
    "class RNN(nn.Module):\n",
    "    def __init__(self,input_size, hidden_size, output_size,num_layers):\n",
    "        super(RNN,self).__init__()\n",
    "        self.input_size = input_size\n",
    "        self.hidden_size = hidden_size\n",
    "        self.output_size = output_size\n",
    "        self.num_layers = num_layers\n",
    "   \n",
    "        \n",
    "        self.rnn = nn.LSTM(input_size, hidden_size, num_layers)\n",
    "        self.decoder = nn.Linear(hidden_size, output_size)\n",
    "        \n",
    "    def forward(self,input, hidden, cell):\n",
    "         \n",
    "        out = input.view(1,1,-1)    # out : [seq_len, batch_size, input_size]\n",
    "        out, (hidden, cell) = self.rnn(out,(hidden,cell)) # out : [seq_len(=1), batch_size(=1),hidden_size(=20)]\n",
    "        out = self.decoder(out.view(1,-1)) # out : [seq_len, batch_size, output_size]\n",
    "\n",
    "        return out, hidden, cell\n",
    "        \n",
    "    def init_hidden(self,batch_size):\n",
    "        hidden = Variable(torch.zeros(num_layers,batch_size,hidden_size))\n",
    "        cell = Variable(torch.zeros(num_layers,batch_size,hidden_size))\n",
    "        \n",
    "        return hidden, cell\n",
    "    \n",
    "    \n",
    "model = RNN(input_size, hidden_size, output_size, num_layers)"
   ]
  },
  {
   "cell_type": "markdown",
   "metadata": {},
   "source": [
    "### 2) Loss & Optimizer"
   ]
  },
  {
   "cell_type": "code",
   "execution_count": 1416,
   "metadata": {},
   "outputs": [],
   "source": [
    "optimizer = torch.optim.Adam(model.parameters(), lr=lr)\n",
    "criterion = nn.CrossEntropyLoss()"
   ]
  },
  {
   "cell_type": "markdown",
   "metadata": {},
   "source": [
    "### 3) Test Function"
   ]
  },
  {
   "cell_type": "code",
   "execution_count": 1417,
   "metadata": {},
   "outputs": [
    {
     "data": {
      "text/plain": [
       "113"
      ]
     },
     "execution_count": 1417,
     "metadata": {},
     "output_type": "execute_result"
    }
   ],
   "source": [
    "binary2int([0,1,1,1,0,0,0,1])"
   ]
  },
  {
   "cell_type": "code",
   "execution_count": 1418,
   "metadata": {},
   "outputs": [],
   "source": [
    "def binary2int(binary_list):\n",
    "    value =0\n",
    "    for i in range(7,-1,-1):\n",
    "        value += binary_list[i] * pow(2,7-i)\n",
    "    return value"
   ]
  },
  {
   "cell_type": "code",
   "execution_count": 1419,
   "metadata": {},
   "outputs": [],
   "source": [
    "def test(predicted):\n",
    "    predicted_int = binary2int(predicted)\n",
    "    print(\"Loss :\",loss,\"\\n\",\"PRED: \",predicted,\"\\n\",\"True: \",true,\"\\n\",a_int, \" + \", b_int,\" = \", predicted_int,\"\\n\",\"accuracy = \",accuracy/10)"
   ]
  },
  {
   "cell_type": "markdown",
   "metadata": {},
   "source": [
    "## 4. Train"
   ]
  },
  {
   "cell_type": "code",
   "execution_count": 1420,
   "metadata": {},
   "outputs": [
    {
     "name": "stdout",
     "output_type": "stream",
     "text": [
      "Loss : tensor(5.3696, grad_fn=<AddBackward0>) \n",
      " PRED:  [0, 0, 0, 0, 0, 0, 0, 0] \n",
      " True:  [1, 1, 0, 0, 0, 0, 0, 0] \n",
      " 103  +  89  =  0 \n",
      " accuracy =  0.0\n",
      "Loss : tensor(0.0560, grad_fn=<AddBackward0>) \n",
      " PRED:  [0, 1, 0, 1, 0, 0, 1, 1] \n",
      " True:  [0, 1, 1, 1, 0, 0, 1, 0] \n",
      " 28  +  86  =  83 \n",
      " accuracy =  2.9\n",
      "Loss : tensor(0.0062, grad_fn=<AddBackward0>) \n",
      " PRED:  [0, 1, 0, 1, 1, 1, 0, 0] \n",
      " True:  [0, 0, 1, 0, 0, 1, 1, 1] \n",
      " 14  +  25  =  92 \n",
      " accuracy =  7.3\n",
      "Loss : tensor(0.0017, grad_fn=<AddBackward0>) \n",
      " PRED:  [0, 1, 0, 1, 0, 1, 0, 1] \n",
      " True:  [0, 1, 1, 0, 0, 1, 1, 0] \n",
      " 65  +  37  =  85 \n",
      " accuracy =  7.4\n",
      "Loss : tensor(0.0019, grad_fn=<AddBackward0>) \n",
      " PRED:  [1, 0, 1, 0, 1, 0, 0, 0] \n",
      " True:  [1, 0, 0, 0, 1, 0, 0, 1] \n",
      " 124  +  13  =  168 \n",
      " accuracy =  6.7\n",
      "Loss : tensor(0.0003, grad_fn=<AddBackward0>) \n",
      " PRED:  [0, 1, 0, 0, 1, 0, 1, 1] \n",
      " True:  [0, 1, 1, 1, 0, 0, 0, 1] \n",
      " 16  +  97  =  75 \n",
      " accuracy =  5.1\n",
      "Loss : tensor(0.0002, grad_fn=<AddBackward0>) \n",
      " PRED:  [0, 0, 0, 1, 1, 0, 1, 1] \n",
      " True:  [0, 1, 0, 1, 0, 0, 1, 1] \n",
      " 8  +  75  =  27 \n",
      " accuracy =  5.5\n",
      "Loss : tensor(0.0002, grad_fn=<AddBackward0>) \n",
      " PRED:  [1, 0, 0, 1, 1, 0, 1, 1] \n",
      " True:  [1, 1, 0, 1, 0, 0, 1, 1] \n",
      " 100  +  111  =  155 \n",
      " accuracy =  5.9\n",
      "Loss : tensor(4.1485e-05, grad_fn=<AddBackward0>) \n",
      " PRED:  [0, 1, 1, 0, 1, 0, 0, 0] \n",
      " True:  [0, 0, 1, 0, 1, 0, 0, 1] \n",
      " 8  +  33  =  104 \n",
      " accuracy =  5.6\n"
     ]
    },
    {
     "ename": "KeyboardInterrupt",
     "evalue": "",
     "output_type": "error",
     "traceback": [
      "\u001b[1;31m---------------------------------------------------------------------------\u001b[0m",
      "\u001b[1;31mKeyboardInterrupt\u001b[0m                         Traceback (most recent call last)",
      "\u001b[1;32m<ipython-input-1420-5c8b03ab1a3c>\u001b[0m in \u001b[0;36m<module>\u001b[1;34m()\u001b[0m\n\u001b[0;32m     13\u001b[0m         \u001b[0mval\u001b[0m\u001b[1;33m,\u001b[0m\u001b[0midx\u001b[0m \u001b[1;33m=\u001b[0m \u001b[0my\u001b[0m\u001b[1;33m.\u001b[0m\u001b[0mmax\u001b[0m\u001b[1;33m(\u001b[0m\u001b[1;36m1\u001b[0m\u001b[1;33m)\u001b[0m\u001b[1;33m\u001b[0m\u001b[0m\n\u001b[0;32m     14\u001b[0m         \u001b[0mloss\u001b[0m \u001b[1;33m+=\u001b[0m \u001b[0mcriterion\u001b[0m\u001b[1;33m(\u001b[0m\u001b[0my\u001b[0m\u001b[1;33m,\u001b[0m\u001b[0my_\u001b[0m\u001b[1;33m)\u001b[0m\u001b[1;33m\u001b[0m\u001b[0m\n\u001b[1;32m---> 15\u001b[1;33m         \u001b[0mpredicted\u001b[0m\u001b[1;33m.\u001b[0m\u001b[0mappend\u001b[0m\u001b[1;33m(\u001b[0m\u001b[0mint\u001b[0m\u001b[1;33m(\u001b[0m\u001b[0midx\u001b[0m\u001b[1;33m[\u001b[0m\u001b[1;36m0\u001b[0m\u001b[1;33m]\u001b[0m\u001b[1;33m)\u001b[0m\u001b[1;33m)\u001b[0m\u001b[1;33m\u001b[0m\u001b[0m\n\u001b[0m\u001b[0;32m     16\u001b[0m         \u001b[0mpredicted\u001b[0m \u001b[1;33m=\u001b[0m \u001b[0mlist\u001b[0m\u001b[1;33m(\u001b[0m\u001b[0mreversed\u001b[0m\u001b[1;33m(\u001b[0m\u001b[0mpredicted\u001b[0m\u001b[1;33m)\u001b[0m\u001b[1;33m)\u001b[0m\u001b[1;33m\u001b[0m\u001b[0m\n\u001b[0;32m     17\u001b[0m \u001b[1;33m\u001b[0m\u001b[0m\n",
      "\u001b[1;31mKeyboardInterrupt\u001b[0m: "
     ]
    }
   ],
   "source": [
    "accuracy = 0\n",
    "for i in range(100000):\n",
    "    hidden,cell = model.init_hidden(batch_size)\n",
    "    loss = 0\n",
    "    optimizer.zero_grad()\n",
    "    a_int, b_int,inp,target = random_training_set()\n",
    "    predicted = []\n",
    "\n",
    "    for j in range(7,-1,-1):\n",
    "        x = inp[:,j]\n",
    "        y_ = target[:,j]\n",
    "        y,hidden,cell = model(x,hidden,cell)\n",
    "        val,idx = y.max(1)\n",
    "        loss += criterion(y,y_)\n",
    "        predicted.append(int(idx[0]))\n",
    "        predicted = list(reversed(predicted))\n",
    "        \n",
    "    true = [int(x) for x in target[0]]\n",
    "    if predicted == true:\n",
    "        accuracy +=1\n",
    "\n",
    "    loss.backward()\n",
    "    optimizer.step()\n",
    "    \n",
    "    if i % 1000 == 0:\n",
    "        test(predicted)\n",
    "        accuracy = 0\n"
   ]
  },
  {
   "cell_type": "code",
   "execution_count": null,
   "metadata": {},
   "outputs": [],
   "source": [
    "for j in range(7,-1,-1):\n",
    "    print(a[j])"
   ]
  },
  {
   "cell_type": "code",
   "execution_count": null,
   "metadata": {},
   "outputs": [],
   "source": [
    "a = [1,2,3,4,5,6,7,8]"
   ]
  },
  {
   "cell_type": "code",
   "execution_count": null,
   "metadata": {},
   "outputs": [],
   "source": [
    "def test(predicted):\n",
    "    print(\"Loss :\",loss,\"\\n\",\"PRED: \",predicted,\"\\n\",\"True: \",true,\"\\n\",a_int, \" + \", b_int,\" = \", binary2int(predicted))"
   ]
  },
  {
   "cell_type": "code",
   "execution_count": null,
   "metadata": {},
   "outputs": [],
   "source": [
    "val"
   ]
  },
  {
   "cell_type": "code",
   "execution_count": null,
   "metadata": {},
   "outputs": [],
   "source": [
    "predicted"
   ]
  },
  {
   "cell_type": "code",
   "execution_count": null,
   "metadata": {},
   "outputs": [],
   "source": []
  },
  {
   "cell_type": "code",
   "execution_count": null,
   "metadata": {},
   "outputs": [],
   "source": []
  },
  {
   "cell_type": "code",
   "execution_count": null,
   "metadata": {},
   "outputs": [],
   "source": []
  },
  {
   "cell_type": "code",
   "execution_count": null,
   "metadata": {},
   "outputs": [],
   "source": []
  },
  {
   "cell_type": "code",
   "execution_count": null,
   "metadata": {},
   "outputs": [],
   "source": []
  }
 ],
 "metadata": {
  "kernelspec": {
   "display_name": "Python 3",
   "language": "python",
   "name": "python3"
  },
  "language_info": {
   "codemirror_mode": {
    "name": "ipython",
    "version": 3
   },
   "file_extension": ".py",
   "mimetype": "text/x-python",
   "name": "python",
   "nbconvert_exporter": "python",
   "pygments_lexer": "ipython3",
   "version": "3.6.5"
  }
 },
 "nbformat": 4,
 "nbformat_minor": 2
}
