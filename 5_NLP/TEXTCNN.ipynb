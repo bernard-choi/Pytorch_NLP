{
 "cells": [
  {
   "cell_type": "code",
   "execution_count": 24,
   "metadata": {},
   "outputs": [],
   "source": [
    "import numpy as np\n",
    "import torch\n",
    "import torch.nn as nn\n",
    "import torch.optim as optim\n",
    "from torch.autograd import Variable\n",
    "import torch.nn.functional as F"
   ]
  },
  {
   "cell_type": "code",
   "execution_count": 25,
   "metadata": {},
   "outputs": [],
   "source": [
    "dtype = torch.FloatTensor"
   ]
  },
  {
   "cell_type": "code",
   "execution_count": 26,
   "metadata": {},
   "outputs": [],
   "source": [
    "embedding_size =2 # n-gram\n",
    "sequence_length = 3\n",
    "num_classes = 2\n",
    "filter_sizes = [2,2,2] # n-gram 다양한 filtersize로 filter를 적용하겠다. \n",
    "num_filters = 3\n",
    "\n",
    "# 3 words sentences(=sequence_length is 3)\n",
    "sentences = [\"i love you\", \"he loves me\", \"she likes baseball\",\"i hate you\",\"sorry for that\",\"this is awful\"]\n",
    "labels = [1,1,1,0,0,0] # 1: 긍정 0: 부정"
   ]
  },
  {
   "cell_type": "code",
   "execution_count": 27,
   "metadata": {},
   "outputs": [],
   "source": [
    "word_list = \" \".join(sentences).split()\n",
    "word_list = list(set(word_list))\n",
    "word_dict = {w: i for i, w in enumerate(word_list)}"
   ]
  },
  {
   "cell_type": "code",
   "execution_count": 28,
   "metadata": {},
   "outputs": [
    {
     "data": {
      "text/plain": [
       "{'he': 0,\n",
       " 'she': 1,\n",
       " 'for': 2,\n",
       " 'awful': 3,\n",
       " 'loves': 4,\n",
       " 'i': 5,\n",
       " 'likes': 6,\n",
       " 'love': 7,\n",
       " 'hate': 8,\n",
       " 'me': 9,\n",
       " 'you': 10,\n",
       " 'that': 11,\n",
       " 'this': 12,\n",
       " 'baseball': 13,\n",
       " 'is': 14,\n",
       " 'sorry': 15}"
      ]
     },
     "execution_count": 28,
     "metadata": {},
     "output_type": "execute_result"
    }
   ],
   "source": [
    "word_dict"
   ]
  },
  {
   "cell_type": "code",
   "execution_count": 29,
   "metadata": {},
   "outputs": [],
   "source": [
    "vocab_size = len(word_dict)"
   ]
  },
  {
   "cell_type": "code",
   "execution_count": 30,
   "metadata": {},
   "outputs": [],
   "source": [
    "inputs = []\n",
    "for sen in sentences:\n",
    "    inputs.append(np.asarray([word_dict[n] for n in sen.split()]))"
   ]
  },
  {
   "cell_type": "code",
   "execution_count": 31,
   "metadata": {},
   "outputs": [
    {
     "data": {
      "text/plain": [
       "[array([ 5,  7, 10]),\n",
       " array([0, 4, 9]),\n",
       " array([ 1,  6, 13]),\n",
       " array([ 5,  8, 10]),\n",
       " array([15,  2, 11]),\n",
       " array([12, 14,  3])]"
      ]
     },
     "execution_count": 31,
     "metadata": {},
     "output_type": "execute_result"
    }
   ],
   "source": [
    "inputs"
   ]
  },
  {
   "cell_type": "code",
   "execution_count": 32,
   "metadata": {},
   "outputs": [],
   "source": [
    "targets = []\n",
    "for out in labels:\n",
    "    targets.append(out)"
   ]
  },
  {
   "cell_type": "code",
   "execution_count": 33,
   "metadata": {},
   "outputs": [],
   "source": [
    "input_batch = Variable(torch.LongTensor(inputs))\n",
    "target_batch = Variable(torch.LongTensor(targets))"
   ]
  },
  {
   "cell_type": "code",
   "execution_count": 34,
   "metadata": {},
   "outputs": [
    {
     "data": {
      "text/plain": [
       "tensor([[ 5,  7, 10],\n",
       "        [ 0,  4,  9],\n",
       "        [ 1,  6, 13],\n",
       "        [ 5,  8, 10],\n",
       "        [15,  2, 11],\n",
       "        [12, 14,  3]])"
      ]
     },
     "execution_count": 34,
     "metadata": {},
     "output_type": "execute_result"
    }
   ],
   "source": [
    "input_batch"
   ]
  },
  {
   "cell_type": "code",
   "execution_count": 35,
   "metadata": {},
   "outputs": [],
   "source": [
    "class TextCNN(nn.Module):\n",
    "    def __init__(self):\n",
    "        super(TextCNN,self).__init__()\n",
    "        \n",
    "        self.num_filters_total = num_filters * len(filter_sizes)\n",
    "        self.W = nn.Parameter(torch.empty(vocab_size,embedding_size).uniform_(-1,1)).type(dtype)\n",
    "        self.Weight = nn.Parameter(torch.empty(self.num_filters_total,num_classes)).type(dtype)\n",
    "        self.Bias = nn.Parameter(0.1 * torch.ones([num_classes])).type(dtype)\n",
    "        \n",
    "    def forward(self,X):\n",
    "        embedded_chars = self.W[X] # [batch_size, sequence_length, embedding_size]\n",
    "        embedded_chars = embedded_chars.unsqueeze(1) # add channel(=1) [batch, channel(=1), sequence_length, embedding_size]\n",
    "        \n",
    "        pooled_outputs =[]\n",
    "        for filter_size in filter_sizes:\n",
    "            # conv : [input_channel(=1), output_channel(=3), (filter_height, filter_width), bias_option]\n",
    "            conv = nn.Conv2d(1,num_filters,(filter_size, embedding_size), bias = True)(embedded_chars) ## conv2d를 embedded_chars에 적용\n",
    "            h = F.relu(conv)\n",
    "            # mp : ((filter_height, filter_width))\n",
    "            mp = nn.MaxPool2d((sequence_length-filter_size+1,1))\n",
    "            # pooled : [batch_size(=6), output_height(=1), output_width(=1), output_channel(=3)]\n",
    "            pooled = mp(h).permute(0,3,2,1)\n",
    "            pooled_outputs.append(pooled)\n",
    "            \n",
    "        h_pool = torch.cat(pooled_outputs,len(filter_sizes)) ## channel을 늘인거 [batch_size(=6), output_height(=1), output_width(=1),output_channel(=3)*3]\n",
    "        h_pool_flat = torch.reshape(h_pool, [-1,self.num_filters_total]) # [batch_size(=6), output_height * output_width * (output_channel *3)] 여기서 output_channel *3이 결국 num_filters_total이 된다\n",
    "        model = torch.mm(h_pool_flat,self.Weight) + self.Bias # [batch_size, num_clasees]    \n",
    "        return model"
   ]
  },
  {
   "cell_type": "code",
   "execution_count": 36,
   "metadata": {},
   "outputs": [],
   "source": [
    "model = TextCNN()"
   ]
  },
  {
   "cell_type": "code",
   "execution_count": 37,
   "metadata": {},
   "outputs": [],
   "source": [
    "criterion = nn.CrossEntropyLoss()\n",
    "optimizer = optim.Adam(model.parameters(), lr = 0.001)"
   ]
  },
  {
   "cell_type": "code",
   "execution_count": 38,
   "metadata": {},
   "outputs": [
    {
     "name": "stdout",
     "output_type": "stream",
     "text": [
      "Epoch:  1000 cost =  0.202907\n",
      "Epoch:  2000 cost =  0.040229\n",
      "Epoch:  3000 cost =  0.052456\n",
      "Epoch:  4000 cost =  0.101490\n",
      "Epoch:  5000 cost =  0.021955\n"
     ]
    }
   ],
   "source": [
    "# Training\n",
    "for epoch in range(5000):\n",
    "    optimizer.zero_grad()\n",
    "    output = model(input_batch)\n",
    "    \n",
    "    # output : [batch_size, num_classes], target_batch : [batch_size] (LongTensor, not one-hot)\n",
    "    \n",
    "    loss = criterion(output,target_batch)\n",
    "    if (epoch + 1) % 1000 ==0:\n",
    "        print('Epoch: ', '%04d' % (epoch +1), 'cost = ', '{:.6f}'.format(loss))\n",
    "        \n",
    "    loss.backward()\n",
    "    optimizer.step()\n",
    "    \n",
    "\n",
    "    \n",
    "    \n",
    "    "
   ]
  },
  {
   "cell_type": "code",
   "execution_count": 39,
   "metadata": {},
   "outputs": [],
   "source": [
    "# Test\n",
    "test_text = 'sorry hate you'\n",
    "tests = [np.asarray([word_dict[n] for n in test_text.split()])]\n",
    "test_batch = Variable(torch.LongTensor(tests))"
   ]
  },
  {
   "cell_type": "code",
   "execution_count": 40,
   "metadata": {},
   "outputs": [
    {
     "name": "stdout",
     "output_type": "stream",
     "text": [
      "sorry hate you is Bad Mean...\n"
     ]
    }
   ],
   "source": [
    "# Predict\n",
    "predict = model(test_batch).data.max(1,keepdim=True)[1]\n",
    "if predict[0][0] ==0:\n",
    "    print(test_text,\"is Bad Mean...\")\n",
    "    \n",
    "else:\n",
    "    print(test_text,\"is Good Mean!\")"
   ]
  }
 ],
 "metadata": {
  "kernelspec": {
   "display_name": "Python 3",
   "language": "python",
   "name": "python3"
  },
  "language_info": {
   "codemirror_mode": {
    "name": "ipython",
    "version": 3
   },
   "file_extension": ".py",
   "mimetype": "text/x-python",
   "name": "python",
   "nbconvert_exporter": "python",
   "pygments_lexer": "ipython3",
   "version": "3.6.5"
  }
 },
 "nbformat": 4,
 "nbformat_minor": 2
}
