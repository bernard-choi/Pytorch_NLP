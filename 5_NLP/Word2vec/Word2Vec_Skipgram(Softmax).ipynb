{
 "cells": [
  {
   "cell_type": "code",
   "execution_count": 54,
   "metadata": {},
   "outputs": [],
   "source": [
    "import numpy as np\n",
    "import torch\n",
    "import torch.nn as nn\n",
    "import torch.optim as optim\n",
    "from torch.autograd import Variable\n",
    "import matplotlib.pyplot as plt\n",
    "% matplotlib inline\n",
    "dtype = torch.FloatTensor"
   ]
  },
  {
   "cell_type": "code",
   "execution_count": 2,
   "metadata": {},
   "outputs": [],
   "source": [
    "# 3 Words Sentence\n",
    "sentences = [ \"i like dog\", \"i like cat\", \"i like animal\",\n",
    "              \"dog cat animal\", \"apple cat dog like\", \"dog fish milk like\",\n",
    "              \"dog cat eyes like\", \"i like apple\", \"apple i hate\",\n",
    "              \"apple i movie book music like\", \"cat dog hate\", \"cat dog like\"]"
   ]
  },
  {
   "cell_type": "code",
   "execution_count": 3,
   "metadata": {},
   "outputs": [],
   "source": [
    "word_sequence = \" \".join(sentences).split()\n",
    "word_list = \" \".join(sentences).split()\n",
    "word_list = list(set(word_list))\n",
    "word_dict = {w: i for i, w in enumerate(word_list)}"
   ]
  },
  {
   "cell_type": "code",
   "execution_count": 4,
   "metadata": {},
   "outputs": [],
   "source": [
    "# Word2Vec Parameter\n",
    "batch_size = 20  # To show 2 dim embedding graph\n",
    "embedding_size = 2  # To show 2 dim embedding graph\n",
    "voc_size = len(word_list)"
   ]
  },
  {
   "cell_type": "code",
   "execution_count": 5,
   "metadata": {},
   "outputs": [
    {
     "data": {
      "text/plain": [
       "['dog',\n",
       " 'fish',\n",
       " 'apple',\n",
       " 'eyes',\n",
       " 'hate',\n",
       " 'movie',\n",
       " 'i',\n",
       " 'animal',\n",
       " 'book',\n",
       " 'like',\n",
       " 'music',\n",
       " 'cat',\n",
       " 'milk']"
      ]
     },
     "execution_count": 5,
     "metadata": {},
     "output_type": "execute_result"
    }
   ],
   "source": [
    "word_list"
   ]
  },
  {
   "cell_type": "code",
   "execution_count": 6,
   "metadata": {},
   "outputs": [],
   "source": [
    "def random_batch(data, size):\n",
    "    random_inputs = []\n",
    "    random_labels = []\n",
    "    random_index = np.random.choice(range(len(data)), size, replace=False)\n",
    "\n",
    "    for i in random_index:\n",
    "        random_inputs.append(np.eye(voc_size)[data[i][0]])  # target\n",
    "        random_labels.append(data[i][1])  # context word\n",
    "\n",
    "    return random_inputs, random_labels\n"
   ]
  },
  {
   "cell_type": "code",
   "execution_count": 9,
   "metadata": {},
   "outputs": [],
   "source": [
    "# Make skip gram of one size window\n",
    "skip_grams = []\n",
    "for i in range(1, len(word_sequence) - 1):\n",
    "    target = word_dict[word_sequence[i]]\n",
    "    context = [word_dict[word_sequence[i - 1]], word_dict[word_sequence[i + 1]]]\n",
    "\n",
    "    for w in context:\n",
    "        skip_grams.append([target, w])"
   ]
  },
  {
   "cell_type": "code",
   "execution_count": 21,
   "metadata": {},
   "outputs": [
    {
     "data": {
      "text/plain": [
       "[[9, 6],\n",
       " [9, 0],\n",
       " [0, 9],\n",
       " [0, 6],\n",
       " [6, 0],\n",
       " [6, 9],\n",
       " [9, 6],\n",
       " [9, 11],\n",
       " [11, 9],\n",
       " [11, 6],\n",
       " [6, 11],\n",
       " [6, 9],\n",
       " [9, 6],\n",
       " [9, 7],\n",
       " [7, 9],\n",
       " [7, 0],\n",
       " [0, 7],\n",
       " [0, 11],\n",
       " [11, 0],\n",
       " [11, 7],\n",
       " [7, 11],\n",
       " [7, 2],\n",
       " [2, 7],\n",
       " [2, 11],\n",
       " [11, 2],\n",
       " [11, 0],\n",
       " [0, 11],\n",
       " [0, 9],\n",
       " [9, 0],\n",
       " [9, 0],\n",
       " [0, 9],\n",
       " [0, 1],\n",
       " [1, 0],\n",
       " [1, 12],\n",
       " [12, 1],\n",
       " [12, 9],\n",
       " [9, 12],\n",
       " [9, 0],\n",
       " [0, 9],\n",
       " [0, 11],\n",
       " [11, 0],\n",
       " [11, 3],\n",
       " [3, 11],\n",
       " [3, 9],\n",
       " [9, 3],\n",
       " [9, 6],\n",
       " [6, 9],\n",
       " [6, 9],\n",
       " [9, 6],\n",
       " [9, 2],\n",
       " [2, 9],\n",
       " [2, 2],\n",
       " [2, 2],\n",
       " [2, 6],\n",
       " [6, 2],\n",
       " [6, 4],\n",
       " [4, 6],\n",
       " [4, 2],\n",
       " [2, 4],\n",
       " [2, 6],\n",
       " [6, 2],\n",
       " [6, 5],\n",
       " [5, 6],\n",
       " [5, 8],\n",
       " [8, 5],\n",
       " [8, 10],\n",
       " [10, 8],\n",
       " [10, 9],\n",
       " [9, 10],\n",
       " [9, 11],\n",
       " [11, 9],\n",
       " [11, 0],\n",
       " [0, 11],\n",
       " [0, 4],\n",
       " [4, 0],\n",
       " [4, 11],\n",
       " [11, 4],\n",
       " [11, 0],\n",
       " [0, 11],\n",
       " [0, 9]]"
      ]
     },
     "execution_count": 21,
     "metadata": {},
     "output_type": "execute_result"
    }
   ],
   "source": [
    "skip_grams"
   ]
  },
  {
   "cell_type": "markdown",
   "metadata": {},
   "source": [
    "## Model"
   ]
  },
  {
   "cell_type": "code",
   "execution_count": 46,
   "metadata": {},
   "outputs": [],
   "source": [
    "class Word2Vec(nn.Module):\n",
    "    def __init__(self):\n",
    "        super(Word2Vec, self).__init__()\n",
    "\n",
    "        # W and WT is not Traspose relationship\n",
    "        self.W = nn.Parameter(-2 * torch.rand(voc_size, embedding_size) + 1).type(dtype) # voc_size > embedding_size Weight\n",
    "        self.WT = nn.Parameter(-2 * torch.rand(embedding_size, voc_size) + 1).type(dtype) # embedding_size > voc_size Weight\n",
    "\n",
    "    def forward(self, X):\n",
    "        # X : [batch_size, voc_size]\n",
    "        hidden_layer = torch.matmul(X, self.W) # hidden_layer : [batch_size, embedding_size]\n",
    "        output_layer = torch.matmul(hidden_layer, self.WT) # output_layer : [batch_size, voc_size]\n",
    "        return output_layer\n",
    "\n",
    "model = Word2Vec()"
   ]
  },
  {
   "cell_type": "code",
   "execution_count": 47,
   "metadata": {},
   "outputs": [
    {
     "data": {
      "text/plain": [
       "Word2Vec()"
      ]
     },
     "execution_count": 47,
     "metadata": {},
     "output_type": "execute_result"
    }
   ],
   "source": [
    "model"
   ]
  },
  {
   "cell_type": "code",
   "execution_count": 48,
   "metadata": {},
   "outputs": [],
   "source": [
    "criterion = nn.CrossEntropyLoss()\n",
    "optimizer = optim.Adam(model.parameters(),lr = 0.001)"
   ]
  },
  {
   "cell_type": "code",
   "execution_count": 49,
   "metadata": {},
   "outputs": [],
   "source": [
    "input_batch, target_batch = random_batch(skip_grams,batch_size)"
   ]
  },
  {
   "cell_type": "code",
   "execution_count": 50,
   "metadata": {},
   "outputs": [],
   "source": [
    "input_batch = torch.Tensor(input_batch)"
   ]
  },
  {
   "cell_type": "code",
   "execution_count": 51,
   "metadata": {},
   "outputs": [
    {
     "data": {
      "text/plain": [
       "tensor([[0., 0., 0., 0., 0., 0., 0., 0., 0., 1., 0., 0., 0.],\n",
       "        [0., 0., 0., 0., 0., 0., 1., 0., 0., 0., 0., 0., 0.],\n",
       "        [0., 0., 1., 0., 0., 0., 0., 0., 0., 0., 0., 0., 0.],\n",
       "        [0., 0., 0., 0., 0., 0., 1., 0., 0., 0., 0., 0., 0.],\n",
       "        [0., 0., 0., 0., 1., 0., 0., 0., 0., 0., 0., 0., 0.],\n",
       "        [0., 0., 0., 0., 0., 0., 0., 0., 1., 0., 0., 0., 0.],\n",
       "        [0., 0., 0., 0., 0., 0., 0., 0., 0., 1., 0., 0., 0.],\n",
       "        [0., 0., 0., 0., 0., 0., 0., 0., 0., 1., 0., 0., 0.],\n",
       "        [1., 0., 0., 0., 0., 0., 0., 0., 0., 0., 0., 0., 0.],\n",
       "        [0., 0., 0., 1., 0., 0., 0., 0., 0., 0., 0., 0., 0.],\n",
       "        [0., 0., 0., 0., 1., 0., 0., 0., 0., 0., 0., 0., 0.],\n",
       "        [0., 0., 0., 0., 0., 0., 0., 1., 0., 0., 0., 0., 0.],\n",
       "        [0., 0., 0., 0., 0., 0., 1., 0., 0., 0., 0., 0., 0.],\n",
       "        [0., 0., 0., 0., 0., 0., 1., 0., 0., 0., 0., 0., 0.],\n",
       "        [0., 1., 0., 0., 0., 0., 0., 0., 0., 0., 0., 0., 0.],\n",
       "        [0., 0., 0., 0., 0., 0., 0., 1., 0., 0., 0., 0., 0.],\n",
       "        [0., 0., 0., 0., 0., 0., 0., 0., 0., 0., 0., 1., 0.],\n",
       "        [0., 0., 0., 0., 0., 0., 0., 0., 0., 1., 0., 0., 0.],\n",
       "        [0., 0., 0., 0., 0., 0., 0., 0., 0., 0., 0., 1., 0.],\n",
       "        [1., 0., 0., 0., 0., 0., 0., 0., 0., 0., 0., 0., 0.]])"
      ]
     },
     "execution_count": 51,
     "metadata": {},
     "output_type": "execute_result"
    }
   ],
   "source": [
    "input_batch"
   ]
  },
  {
   "cell_type": "code",
   "execution_count": 52,
   "metadata": {},
   "outputs": [],
   "source": [
    "output = model(input_batch)"
   ]
  },
  {
   "cell_type": "markdown",
   "metadata": {},
   "source": [
    "## Training"
   ]
  },
  {
   "cell_type": "code",
   "execution_count": 53,
   "metadata": {},
   "outputs": [
    {
     "name": "stdout",
     "output_type": "stream",
     "text": [
      "Epoch: 041000 cost =  2.551819\n",
      "Epoch: 042000 cost =  2.236077\n",
      "Epoch: 043000 cost =  1.527986\n",
      "Epoch: 044000 cost =  2.160802\n",
      "Epoch: 045000 cost =  1.617037\n"
     ]
    }
   ],
   "source": [
    "for epoch in range(5000):\n",
    "    \n",
    "    input_batch, target_batch = random_batch(skip_grams,batch_size)\n",
    "    \n",
    "    input_batch = Variable(torch.Tensor(input_batch))\n",
    "    target_batch = Variable(torch.LongTensor(target_batch))\n",
    "    \n",
    "    optimizer.zero_grad()\n",
    "    output = model(input_batch)\n",
    "    \n",
    "    # output : [batch_size, voc_size], target: [batch_size] (LongTensor, not one_hot)\n",
    "    loss = criterion(output, target_batch)\n",
    "    if (epoch + 1)%1000 ==0:\n",
    "        print('Epoch:','04%d'%(epoch+1),'cost = ','{:.6f}'.format(loss))\n",
    "        \n",
    "    loss.backward()\n",
    "    optimizer.step()"
   ]
  },
  {
   "cell_type": "code",
   "execution_count": 55,
   "metadata": {},
   "outputs": [
    {
     "data": {
      "image/png": "[encoded data removed]",
      "text/plain": [
       "<Figure size 432x288 with 1 Axes>"
      ]
     },
     "metadata": {},
     "output_type": "display_data"
    }
   ],
   "source": [
    "for i, label in enumerate(word_list):\n",
    "    W, WT = model.parameters()\n",
    "    x,y = float(W[i][0]), float(W[i][1])\n",
    "    plt.scatter(x, y)\n",
    "    plt.annotate(label, xy=(x, y), xytext=(5, 2), textcoords='offset points', ha='right', va='bottom')\n",
    "plt.show()"
   ]
  }
 ],
 "metadata": {
  "kernelspec": {
   "display_name": "Python 3",
   "language": "python",
   "name": "python3"
  },
  "language_info": {
   "codemirror_mode": {
    "name": "ipython",
    "version": 3
   },
   "file_extension": ".py",
   "mimetype": "text/x-python",
   "name": "python",
   "nbconvert_exporter": "python",
   "pygments_lexer": "ipython3",
   "version": "3.6.5"
  }
 },
 "nbformat": 4,
 "nbformat_minor": 2
}
